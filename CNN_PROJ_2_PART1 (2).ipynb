{
  "nbformat": 4,
  "nbformat_minor": 0,
  "metadata": {
    "colab": {
      "provenance": [],
      "gpuType": "T4"
    },
    "kernelspec": {
      "name": "python3",
      "display_name": "Python 3"
    },
    "language_info": {
      "name": "python"
    },
    "widgets": {
      "application/vnd.jupyter.widget-state+json": {
        "b0e14bf3935f472b8c3702c2ec7ec3cd": {
          "model_module": "@jupyter-widgets/controls",
          "model_name": "HBoxModel",
          "model_module_version": "1.5.0",
          "state": {
            "_dom_classes": [],
            "_model_module": "@jupyter-widgets/controls",
            "_model_module_version": "1.5.0",
            "_model_name": "HBoxModel",
            "_view_count": null,
            "_view_module": "@jupyter-widgets/controls",
            "_view_module_version": "1.5.0",
            "_view_name": "HBoxView",
            "box_style": "",
            "children": [
              "IPY_MODEL_adc691487e8d4507ac5766870cc3599a",
              "IPY_MODEL_344ef9895cba495c9343899a96e3d63b",
              "IPY_MODEL_aea92c5664704c1dae438f8a981b86e0"
            ],
            "layout": "IPY_MODEL_c4cd79bfc8014560bad18052982386fe"
          }
        },
        "adc691487e8d4507ac5766870cc3599a": {
          "model_module": "@jupyter-widgets/controls",
          "model_name": "HTMLModel",
          "model_module_version": "1.5.0",
          "state": {
            "_dom_classes": [],
            "_model_module": "@jupyter-widgets/controls",
            "_model_module_version": "1.5.0",
            "_model_name": "HTMLModel",
            "_view_count": null,
            "_view_module": "@jupyter-widgets/controls",
            "_view_module_version": "1.5.0",
            "_view_name": "HTMLView",
            "description": "",
            "description_tooltip": null,
            "layout": "IPY_MODEL_b15c3213157d493fbbd36426af6e8524",
            "placeholder": "​",
            "style": "IPY_MODEL_133f93d9a333450fb41f95da59c8b48d",
            "value": "model.safetensors: 100%"
          }
        },
        "344ef9895cba495c9343899a96e3d63b": {
          "model_module": "@jupyter-widgets/controls",
          "model_name": "FloatProgressModel",
          "model_module_version": "1.5.0",
          "state": {
            "_dom_classes": [],
            "_model_module": "@jupyter-widgets/controls",
            "_model_module_version": "1.5.0",
            "_model_name": "FloatProgressModel",
            "_view_count": null,
            "_view_module": "@jupyter-widgets/controls",
            "_view_module_version": "1.5.0",
            "_view_name": "ProgressView",
            "bar_style": "success",
            "description": "",
            "description_tooltip": null,
            "layout": "IPY_MODEL_492f7d1f9d2845ae8e3d4b99b90193e7",
            "max": 346284714,
            "min": 0,
            "orientation": "horizontal",
            "style": "IPY_MODEL_4575cb431af24da9b59eaac19a05ccbf",
            "value": 346284714
          }
        },
        "aea92c5664704c1dae438f8a981b86e0": {
          "model_module": "@jupyter-widgets/controls",
          "model_name": "HTMLModel",
          "model_module_version": "1.5.0",
          "state": {
            "_dom_classes": [],
            "_model_module": "@jupyter-widgets/controls",
            "_model_module_version": "1.5.0",
            "_model_name": "HTMLModel",
            "_view_count": null,
            "_view_module": "@jupyter-widgets/controls",
            "_view_module_version": "1.5.0",
            "_view_name": "HTMLView",
            "description": "",
            "description_tooltip": null,
            "layout": "IPY_MODEL_ef8fb3204dcb420397f78957fed56db4",
            "placeholder": "​",
            "style": "IPY_MODEL_2f210ea03a624c9ebb586d2fdc19e3d4",
            "value": " 346M/346M [00:04&lt;00:00, 77.1MB/s]"
          }
        },
        "c4cd79bfc8014560bad18052982386fe": {
          "model_module": "@jupyter-widgets/base",
          "model_name": "LayoutModel",
          "model_module_version": "1.2.0",
          "state": {
            "_model_module": "@jupyter-widgets/base",
            "_model_module_version": "1.2.0",
            "_model_name": "LayoutModel",
            "_view_count": null,
            "_view_module": "@jupyter-widgets/base",
            "_view_module_version": "1.2.0",
            "_view_name": "LayoutView",
            "align_content": null,
            "align_items": null,
            "align_self": null,
            "border": null,
            "bottom": null,
            "display": null,
            "flex": null,
            "flex_flow": null,
            "grid_area": null,
            "grid_auto_columns": null,
            "grid_auto_flow": null,
            "grid_auto_rows": null,
            "grid_column": null,
            "grid_gap": null,
            "grid_row": null,
            "grid_template_areas": null,
            "grid_template_columns": null,
            "grid_template_rows": null,
            "height": null,
            "justify_content": null,
            "justify_items": null,
            "left": null,
            "margin": null,
            "max_height": null,
            "max_width": null,
            "min_height": null,
            "min_width": null,
            "object_fit": null,
            "object_position": null,
            "order": null,
            "overflow": null,
            "overflow_x": null,
            "overflow_y": null,
            "padding": null,
            "right": null,
            "top": null,
            "visibility": null,
            "width": null
          }
        },
        "b15c3213157d493fbbd36426af6e8524": {
          "model_module": "@jupyter-widgets/base",
          "model_name": "LayoutModel",
          "model_module_version": "1.2.0",
          "state": {
            "_model_module": "@jupyter-widgets/base",
            "_model_module_version": "1.2.0",
            "_model_name": "LayoutModel",
            "_view_count": null,
            "_view_module": "@jupyter-widgets/base",
            "_view_module_version": "1.2.0",
            "_view_name": "LayoutView",
            "align_content": null,
            "align_items": null,
            "align_self": null,
            "border": null,
            "bottom": null,
            "display": null,
            "flex": null,
            "flex_flow": null,
            "grid_area": null,
            "grid_auto_columns": null,
            "grid_auto_flow": null,
            "grid_auto_rows": null,
            "grid_column": null,
            "grid_gap": null,
            "grid_row": null,
            "grid_template_areas": null,
            "grid_template_columns": null,
            "grid_template_rows": null,
            "height": null,
            "justify_content": null,
            "justify_items": null,
            "left": null,
            "margin": null,
            "max_height": null,
            "max_width": null,
            "min_height": null,
            "min_width": null,
            "object_fit": null,
            "object_position": null,
            "order": null,
            "overflow": null,
            "overflow_x": null,
            "overflow_y": null,
            "padding": null,
            "right": null,
            "top": null,
            "visibility": null,
            "width": null
          }
        },
        "133f93d9a333450fb41f95da59c8b48d": {
          "model_module": "@jupyter-widgets/controls",
          "model_name": "DescriptionStyleModel",
          "model_module_version": "1.5.0",
          "state": {
            "_model_module": "@jupyter-widgets/controls",
            "_model_module_version": "1.5.0",
            "_model_name": "DescriptionStyleModel",
            "_view_count": null,
            "_view_module": "@jupyter-widgets/base",
            "_view_module_version": "1.2.0",
            "_view_name": "StyleView",
            "description_width": ""
          }
        },
        "492f7d1f9d2845ae8e3d4b99b90193e7": {
          "model_module": "@jupyter-widgets/base",
          "model_name": "LayoutModel",
          "model_module_version": "1.2.0",
          "state": {
            "_model_module": "@jupyter-widgets/base",
            "_model_module_version": "1.2.0",
            "_model_name": "LayoutModel",
            "_view_count": null,
            "_view_module": "@jupyter-widgets/base",
            "_view_module_version": "1.2.0",
            "_view_name": "LayoutView",
            "align_content": null,
            "align_items": null,
            "align_self": null,
            "border": null,
            "bottom": null,
            "display": null,
            "flex": null,
            "flex_flow": null,
            "grid_area": null,
            "grid_auto_columns": null,
            "grid_auto_flow": null,
            "grid_auto_rows": null,
            "grid_column": null,
            "grid_gap": null,
            "grid_row": null,
            "grid_template_areas": null,
            "grid_template_columns": null,
            "grid_template_rows": null,
            "height": null,
            "justify_content": null,
            "justify_items": null,
            "left": null,
            "margin": null,
            "max_height": null,
            "max_width": null,
            "min_height": null,
            "min_width": null,
            "object_fit": null,
            "object_position": null,
            "order": null,
            "overflow": null,
            "overflow_x": null,
            "overflow_y": null,
            "padding": null,
            "right": null,
            "top": null,
            "visibility": null,
            "width": null
          }
        },
        "4575cb431af24da9b59eaac19a05ccbf": {
          "model_module": "@jupyter-widgets/controls",
          "model_name": "ProgressStyleModel",
          "model_module_version": "1.5.0",
          "state": {
            "_model_module": "@jupyter-widgets/controls",
            "_model_module_version": "1.5.0",
            "_model_name": "ProgressStyleModel",
            "_view_count": null,
            "_view_module": "@jupyter-widgets/base",
            "_view_module_version": "1.2.0",
            "_view_name": "StyleView",
            "bar_color": null,
            "description_width": ""
          }
        },
        "ef8fb3204dcb420397f78957fed56db4": {
          "model_module": "@jupyter-widgets/base",
          "model_name": "LayoutModel",
          "model_module_version": "1.2.0",
          "state": {
            "_model_module": "@jupyter-widgets/base",
            "_model_module_version": "1.2.0",
            "_model_name": "LayoutModel",
            "_view_count": null,
            "_view_module": "@jupyter-widgets/base",
            "_view_module_version": "1.2.0",
            "_view_name": "LayoutView",
            "align_content": null,
            "align_items": null,
            "align_self": null,
            "border": null,
            "bottom": null,
            "display": null,
            "flex": null,
            "flex_flow": null,
            "grid_area": null,
            "grid_auto_columns": null,
            "grid_auto_flow": null,
            "grid_auto_rows": null,
            "grid_column": null,
            "grid_gap": null,
            "grid_row": null,
            "grid_template_areas": null,
            "grid_template_columns": null,
            "grid_template_rows": null,
            "height": null,
            "justify_content": null,
            "justify_items": null,
            "left": null,
            "margin": null,
            "max_height": null,
            "max_width": null,
            "min_height": null,
            "min_width": null,
            "object_fit": null,
            "object_position": null,
            "order": null,
            "overflow": null,
            "overflow_x": null,
            "overflow_y": null,
            "padding": null,
            "right": null,
            "top": null,
            "visibility": null,
            "width": null
          }
        },
        "2f210ea03a624c9ebb586d2fdc19e3d4": {
          "model_module": "@jupyter-widgets/controls",
          "model_name": "DescriptionStyleModel",
          "model_module_version": "1.5.0",
          "state": {
            "_model_module": "@jupyter-widgets/controls",
            "_model_module_version": "1.5.0",
            "_model_name": "DescriptionStyleModel",
            "_view_count": null,
            "_view_module": "@jupyter-widgets/base",
            "_view_module_version": "1.2.0",
            "_view_name": "StyleView",
            "description_width": ""
          }
        }
      }
    },
    "accelerator": "GPU"
  },
  "cells": [
    {
      "cell_type": "markdown",
      "source": [
        "#Library Import"
      ],
      "metadata": {
        "id": "M6mSKnknSoN7"
      }
    },
    {
      "cell_type": "code",
      "source": [
        "import torch.nn as nn\n",
        "import torch.nn.functional as F\n",
        "import torch\n",
        "import numpy as np\n",
        "import pandas as pd\n",
        "import matplotlib.pyplot as plt\n",
        "import time"
      ],
      "metadata": {
        "id": "oahxjRA9StJh"
      },
      "execution_count": null,
      "outputs": []
    },
    {
      "cell_type": "markdown",
      "source": [
        "# Importing the dataset data from drive (Project2/Project 1 Data) Data then i have Train_data,Test_data and in train data i have 5 folders for 5 classes A,B,C,D,E and file names there are 1_A.jpg , 2_A.jpg etc\n",
        "\n",
        "# In test data i have files named 1.jpg,2.jpg etc"
      ],
      "metadata": {
        "id": "EoCI6TQnSz23"
      }
    },
    {
      "cell_type": "code",
      "source": [
        "import os\n",
        "from PIL import Image\n",
        "import torch\n",
        "from torch.utils.data import Dataset, DataLoader, random_split\n",
        "from torchvision import transforms, utils\n",
        "import torch.optim as optim\n",
        "from google.colab import drive\n",
        "from pathlib import Path\n",
        "drive.mount('/content/drive')"
      ],
      "metadata": {
        "colab": {
          "base_uri": "https://localhost:8080/"
        },
        "id": "VhImVwlxS0Fg",
        "outputId": "bf17f145-9dd8-4730-e47d-477fb5a5987d"
      },
      "execution_count": null,
      "outputs": [
        {
          "output_type": "stream",
          "name": "stdout",
          "text": [
            "Drive already mounted at /content/drive; to attempt to forcibly remount, call drive.mount(\"/content/drive\", force_remount=True).\n"
          ]
        }
      ]
    },
    {
      "cell_type": "markdown",
      "source": [
        "##Simple CNN"
      ],
      "metadata": {
        "id": "3QNXwK0jTGYW"
      }
    },
    {
      "cell_type": "code",
      "source": [
        "import torch\n",
        "import torch.nn as nn\n",
        "import torch.nn.functional as F\n",
        "\n",
        "class CNN(nn.Module):\n",
        "    def __init__(self):\n",
        "        super(CNN, self).__init__()\n",
        "\n",
        "        # Convolutional layers\n",
        "        self.conv1 = nn.Conv2d(1, 32, kernel_size=3, stride=1, padding=1)\n",
        "        self.conv2 = nn.Conv2d(32, 64, kernel_size=3, stride=1, padding=1)\n",
        "        self.conv3 = nn.Conv2d(64, 128, kernel_size=3, stride=1, padding=1)\n",
        "\n",
        "        # Pooling layer\n",
        "        self.pool = nn.MaxPool2d(kernel_size=2, stride=2)\n",
        "\n",
        "        # Fully connected layers\n",
        "        self.fc1 = nn.Linear(128 * 37 * 50, 512)\n",
        "        self.fc2 = nn.Linear(512, 5)\n",
        "\n",
        "        # Dropout\n",
        "        self.dropout = nn.Dropout(0.5)\n",
        "\n",
        "    def forward(self, x):\n",
        "        # Convolutional layers with ReLU and pooling\n",
        "        x = self.pool(F.relu(self.conv1(x)))\n",
        "        x = self.pool(F.relu(self.conv2(x)))\n",
        "        x = self.pool(F.relu(self.conv3(x)))\n",
        "\n",
        "        # Flatten the output\n",
        "        x = x.view(-1, 128 * 37 * 50)\n",
        "\n",
        "        # Fully connected layers with ReLU and dropout\n",
        "        x = F.relu(self.fc1(x))\n",
        "        x = self.dropout(x)\n",
        "        x = self.fc2(x)\n",
        "\n",
        "        return x\n",
        "\n"
      ],
      "metadata": {
        "id": "ARhFY1DFTFkR"
      },
      "execution_count": null,
      "outputs": []
    },
    {
      "cell_type": "markdown",
      "source": [
        "x = self.dropout(x)\n",
        "\n",
        "Dropout randomly sets a fraction of the neurons (here, 50%) to 0 during training.\n",
        "\n",
        "Purpose: prevent overfitting by making the network not rely too much on any single neuron.\n",
        "\n",
        "Effect: the network learns more robust features that generalize better."
      ],
      "metadata": {
        "id": "a3I_cr6FVXyx"
      }
    },
    {
      "cell_type": "code",
      "source": [
        "# Create an instance of the model\n",
        "model = CNN()\n",
        "\n",
        "# Print model summary\n",
        "print(model)\n",
        "\n",
        "# Example input tensor\n",
        "input_tensor = torch.randn(1, 1, 300, 400) #(batch_size, channels, height, width)\n",
        "\n",
        "# Get output\n",
        "output = model(input_tensor)\n",
        "\n",
        "print(f\"Output shape: {output.shape}\")\n"
      ],
      "metadata": {
        "colab": {
          "base_uri": "https://localhost:8080/"
        },
        "id": "PFnlHsASVazs",
        "outputId": "e57364b8-d4fb-405d-c72a-1c961479e88e"
      },
      "execution_count": null,
      "outputs": [
        {
          "output_type": "stream",
          "name": "stdout",
          "text": [
            "CNN(\n",
            "  (conv1): Conv2d(1, 32, kernel_size=(3, 3), stride=(1, 1), padding=(1, 1))\n",
            "  (conv2): Conv2d(32, 64, kernel_size=(3, 3), stride=(1, 1), padding=(1, 1))\n",
            "  (conv3): Conv2d(64, 128, kernel_size=(3, 3), stride=(1, 1), padding=(1, 1))\n",
            "  (pool): MaxPool2d(kernel_size=2, stride=2, padding=0, dilation=1, ceil_mode=False)\n",
            "  (fc1): Linear(in_features=236800, out_features=512, bias=True)\n",
            "  (fc2): Linear(in_features=512, out_features=5, bias=True)\n",
            "  (dropout): Dropout(p=0.5, inplace=False)\n",
            ")\n",
            "Output shape: torch.Size([1, 5])\n"
          ]
        }
      ]
    },
    {
      "cell_type": "markdown",
      "source": [
        "##Image transform"
      ],
      "metadata": {
        "id": "x7IiN-gm0bAt"
      }
    },
    {
      "cell_type": "code",
      "source": [
        "import os\n",
        "from pathlib import Path\n",
        "import torch\n",
        "from torch.utils.data import Dataset, DataLoader, random_split\n",
        "from torchvision import transforms\n",
        "from PIL import Image\n",
        "\n",
        "# ----------------------------\n",
        "# Dataset Classes\n",
        "# ----------------------------\n",
        "class CustomImageDataset(Dataset):\n",
        "    def __init__(self, root_dir, transform=None):\n",
        "        self.root_dir = root_dir\n",
        "        self.transform = transform\n",
        "        self.classes = [d for d in os.listdir(root_dir) if os.path.isdir(os.path.join(root_dir, d)) and not d.startswith('.')]\n",
        "        self.classes.sort()\n",
        "        self.class_to_idx = {cls_name: i for i, cls_name in enumerate(self.classes)}\n",
        "        self.images = self._load_images()\n",
        "        print(f\"Loaded {len(self.images)} images from {root_dir}\")  # Debug line\n",
        "        print(f\"Classes found: {self.classes}\")  # Debug line\n",
        "\n",
        "    def _load_images(self):\n",
        "        images = []\n",
        "        for cls in self.classes:\n",
        "            class_dir = os.path.join(self.root_dir, cls)\n",
        "            for img_name in os.listdir(class_dir):\n",
        "                if img_name.lower().endswith(('.png', '.jpg', '.jpeg', '.tiff', '.bmp', '.gif')):\n",
        "                    images.append((os.path.join(class_dir, img_name), self.class_to_idx[cls]))# mapping each image to its class label\n",
        "        return images\n",
        "\n",
        "    def __len__(self):\n",
        "        return len(self.images)\n",
        "\n",
        "    def __getitem__(self, idx):\n",
        "        img_path, label = self.images[idx]\n",
        "        image = Image.open(img_path).convert('L')  # Convert to grayscale\n",
        "        if self.transform:\n",
        "            image = self.transform(image)\n",
        "        return image, label\n",
        "\n",
        "class TestImageDataset(Dataset):\n",
        "    def __init__(self, root_dir, transform=None):\n",
        "        self.root_dir = root_dir\n",
        "        self.transform = transform\n",
        "        self.images = [f for f in os.listdir(root_dir) if f.lower().endswith(('.png', '.jpg', '.jpeg', '.tiff', '.bmp', '.gif'))]\n",
        "        self.images.sort()\n",
        "        print(f\"Loaded {len(self.images)} test images from {root_dir}\")  # Debug line\n",
        "\n",
        "    def __len__(self):\n",
        "        return len(self.images)\n",
        "\n",
        "    def __getitem__(self, idx):\n",
        "        img_name = self.images[idx]\n",
        "        img_path = os.path.join(self.root_dir, img_name)\n",
        "        image = Image.open(img_path).convert('L')  # Convert to grayscale\n",
        "        if self.transform:\n",
        "            image = self.transform(image)\n",
        "        return image, img_name\n",
        "\n",
        "# ----------------------------\n",
        "# Transforms\n",
        "# ----------------------------\n",
        "transform = transforms.Compose([\n",
        "    transforms.Resize((300, 400)),\n",
        "    transforms.ToTensor(),\n",
        "    transforms.Normalize(mean=[0.5], std=[0.5])\n",
        "])\n",
        "\n",
        "# ----------------------------\n",
        "# Paths\n",
        "# ----------------------------\n",
        "base_dir = Path(\"/content/drive/MyDrive/Project2/Project 1 Data\")\n",
        "train_dir = os.path.join(base_dir, 'Train_Data')\n",
        "test_dir = os.path.join(base_dir, 'Test_Data')\n",
        "\n",
        "# Verify directories exist\n",
        "if not os.path.exists(train_dir):\n",
        "    raise FileNotFoundError(f\"Training directory not found: {train_dir}\")\n",
        "if not os.path.exists(test_dir):\n",
        "    raise FileNotFoundError(f\"Test directory not found: {test_dir}\")\n",
        "\n",
        "# ----------------------------\n",
        "# Datasets\n",
        "# ----------------------------\n",
        "train_dataset = CustomImageDataset(train_dir, transform=transform)\n",
        "test_dataset = TestImageDataset(test_dir, transform=transform)\n",
        "\n",
        "# ----------------------------\n",
        "# Split train dataset\n",
        "# ----------------------------\n",
        "train_size = int(0.9 * len(train_dataset))\n",
        "val_size = len(train_dataset) - train_size\n",
        "print(f\"Train size: {train_size}, Validation size: {val_size}\")  # Debug line\n",
        "\n",
        "if train_size <= 0 or val_size <= 0:\n",
        "    raise ValueError(\"Dataset is empty or too small after splitting. Check the Train_Data directory.\")\n",
        "\n",
        "train_dataset, val_dataset = random_split(train_dataset, [train_size, val_size])\n",
        "\n",
        "# ----------------------------\n",
        "# DataLoaders\n",
        "# ----------------------------\n",
        "\n",
        "batch_size = 32\n",
        "train_loader = DataLoader(train_dataset, batch_size=batch_size, shuffle=True, num_workers=4)\n",
        "val_loader = DataLoader(val_dataset, batch_size=batch_size, shuffle=False, num_workers=4)\n",
        "test_loader = DataLoader(test_dataset, batch_size=batch_size, shuffle=False, num_workers=4)\n",
        "\n",
        "# ----------------------------\n",
        "# Info\n",
        "# ----------------------------\n",
        "print(f\"Number of training samples: {len(train_dataset)}\")\n",
        "print(f\"Number of validation samples: {len(val_dataset)}\")\n",
        "print(f\"Number of test samples: {len(test_dataset)}\")\n",
        "print(f\"Number of classes: {len(train_dataset.dataset.classes)}\")\n",
        "print(f\"Classes: {train_dataset.dataset.classes}\")\n",
        "\n",
        "# Example of iterating through the train_loader\n",
        "for images, labels in train_loader:\n",
        "    print(f\"Batch shape: {images.shape}\")\n",
        "    print(f\"Labels shape: {labels.shape}\")\n",
        "    break\n"
      ],
      "metadata": {
        "colab": {
          "base_uri": "https://localhost:8080/"
        },
        "id": "JpvjLsO1rJPV",
        "outputId": "e8c321fd-3869-430f-ded9-e2e38722d6af"
      },
      "execution_count": null,
      "outputs": [
        {
          "output_type": "stream",
          "name": "stdout",
          "text": [
            "Loaded 2516 images from /content/drive/MyDrive/Project2/Project 1 Data/Train_Data\n",
            "Classes found: ['A', 'B', 'C', 'D', 'S']\n",
            "Loaded 478 test images from /content/drive/MyDrive/Project2/Project 1 Data/Test_Data\n",
            "Train size: 2264, Validation size: 252\n",
            "Number of training samples: 2264\n",
            "Number of validation samples: 252\n",
            "Number of test samples: 478\n",
            "Number of classes: 5\n",
            "Classes: ['A', 'B', 'C', 'D', 'S']\n"
          ]
        },
        {
          "output_type": "stream",
          "name": "stderr",
          "text": [
            "/usr/local/lib/python3.12/dist-packages/torch/utils/data/dataloader.py:627: UserWarning: This DataLoader will create 4 worker processes in total. Our suggested max number of worker in current system is 2, which is smaller than what this DataLoader is going to create. Please be aware that excessive worker creation might get DataLoader running slow or even freeze, lower the worker number to avoid potential slowness/freeze if necessary.\n",
            "  warnings.warn(\n"
          ]
        },
        {
          "output_type": "stream",
          "name": "stdout",
          "text": [
            "Batch shape: torch.Size([32, 1, 300, 400])\n",
            "Labels shape: torch.Size([32])\n"
          ]
        }
      ]
    },
    {
      "cell_type": "markdown",
      "source": [
        "DataLoader is a PyTorch class that wraps a Dataset and allows you to load data in batches, shuffle it, and load it in parallel\n",
        "\n",
        "| Argument        | Meaning                                                                                                            |\n",
        "| --------------- | ------------------------------------------------------------------------------------------------------------------ |\n",
        "| `train_dataset` | The dataset object to load data from. In your case, `CustomImageDataset` or a `Subset` of it after `random_split`. |\n",
        "| `batch_size=32` | Number of samples per batch. So each iteration gives **32 images + 32 labels**.                                    |\n",
        "| `shuffle=True`  | Randomly shuffle the dataset at the start of each epoch. Helps avoid model overfitting due to order of data.       |\n",
        "| `num_workers=4` | Number of subprocesses to use for loading data. Increases speed by parallel loading.                               |\n"
      ],
      "metadata": {
        "id": "4iDEN6ry0RG-"
      }
    },
    {
      "cell_type": "code",
      "source": [
        "print(train_dataset[0])\n",
        "print(val_dataset[200])\n",
        "print(test_dataset[2])"
      ],
      "metadata": {
        "colab": {
          "base_uri": "https://localhost:8080/"
        },
        "id": "WHv76APezOwF",
        "outputId": "cde08110-5c7b-4e74-fd15-f176eb3d2935"
      },
      "execution_count": null,
      "outputs": [
        {
          "output_type": "stream",
          "name": "stdout",
          "text": [
            "(tensor([[[ 0.2314,  0.2314,  0.2314,  ...,  0.2078,  0.2078,  0.2078],\n",
            "         [ 0.2314,  0.2314,  0.2314,  ...,  0.2078,  0.2078,  0.2078],\n",
            "         [ 0.2314,  0.2314,  0.2314,  ...,  0.2078,  0.2078,  0.2078],\n",
            "         ...,\n",
            "         [-0.5922, -0.5922, -0.5843,  ..., -0.8902, -0.8745, -0.8745],\n",
            "         [-0.6078, -0.6000, -0.6000,  ..., -0.8510, -0.8431, -0.8353],\n",
            "         [-0.6157, -0.6078, -0.6078,  ..., -0.8039, -0.7882, -0.7725]]]), 0)\n",
            "(tensor([[[ 0.0510,  0.0510,  0.0510,  ...,  0.1294,  0.1294,  0.1294],\n",
            "         [ 0.0510,  0.0510,  0.0510,  ...,  0.1294,  0.1294,  0.1294],\n",
            "         [ 0.0510,  0.0510,  0.0510,  ...,  0.1294,  0.1294,  0.1294],\n",
            "         ...,\n",
            "         [ 0.8196,  0.8510,  0.8588,  ..., -0.7961, -0.8196, -0.8353],\n",
            "         [ 0.4980,  0.5059,  0.4824,  ..., -0.7961, -0.8196, -0.8353],\n",
            "         [ 0.1529,  0.1451,  0.1137,  ..., -0.7961, -0.8196, -0.8353]]]), 2)\n",
            "(tensor([[[ 0.3647,  0.3647,  0.3647,  ...,  0.7176,  0.7176,  0.7098],\n",
            "         [ 0.3647,  0.3647,  0.3647,  ...,  0.7176,  0.7176,  0.7098],\n",
            "         [ 0.3647,  0.3647,  0.3647,  ...,  0.7176,  0.7176,  0.7176],\n",
            "         ...,\n",
            "         [-0.1137, -0.1137, -0.1216,  ...,  0.6941,  0.6941,  0.6941],\n",
            "         [-0.0039, -0.0039, -0.0118,  ...,  0.6941,  0.6941,  0.6941],\n",
            "         [-0.0118, -0.0196, -0.0275,  ...,  0.6941,  0.6941,  0.6941]]]), '100.jpg')\n"
          ]
        }
      ]
    },
    {
      "cell_type": "markdown",
      "source": [
        "| Dataset         | Labels? | Use case                      |\n",
        "| --------------- | ------- | ----------------------------- |\n",
        "| `train_dataset` | Yes     | Training                      |\n",
        "| `val_dataset`   | Yes     | Validation during training    |\n",
        "| `test_dataset`  | No      | Model inference / predictions |\n"
      ],
      "metadata": {
        "id": "xqBh5NGp0-WY"
      }
    },
    {
      "cell_type": "markdown",
      "source": [
        "##CNN Training"
      ],
      "metadata": {
        "id": "V9R0W2EO1ev2"
      }
    },
    {
      "cell_type": "code",
      "source": [
        "\n",
        "# Initialize the model, loss function, and optimizer\n",
        "device = torch.device(\"cuda\" if torch.cuda.is_available() else \"cpu\")\n",
        "model = CNN().to(device)\n",
        "criterion = nn.CrossEntropyLoss()\n",
        "optimizer = optim.Adam(model.parameters(), lr=0.001)\n",
        "\n",
        "# Training function\n",
        "def train_model(model, train_loader, val_loader, criterion, optimizer, num_epochs=10):\n",
        "    for epoch in range(num_epochs):\n",
        "        model.train()\n",
        "        running_loss = 0.0\n",
        "        start_time = time.time()\n",
        "\n",
        "        for inputs, labels in train_loader:\n",
        "            inputs, labels = inputs.to(device), labels.to(device)\n",
        "\n",
        "            optimizer.zero_grad()\n",
        "            outputs = model(inputs)\n",
        "            loss = criterion(outputs, labels)\n",
        "            loss.backward()\n",
        "            optimizer.step()\n",
        "\n",
        "            running_loss += loss.item() * inputs.size(0)\n",
        "\n",
        "        epoch_loss = running_loss / len(train_loader.dataset)\n",
        "\n",
        "        # Validation\n",
        "        model.eval()\n",
        "        val_loss = 0.0\n",
        "        correct = 0\n",
        "        total = 0\n",
        "\n",
        "        with torch.no_grad():\n",
        "            for inputs, labels in val_loader:\n",
        "                inputs, labels = inputs.to(device), labels.to(device)\n",
        "                outputs = model(inputs)\n",
        "                loss = criterion(outputs, labels)\n",
        "                val_loss += loss.item() * inputs.size(0)\n",
        "\n",
        "                _, predicted = torch.max(outputs.data, 1)\n",
        "                total += labels.size(0)\n",
        "                correct += (predicted == labels).sum().item()\n",
        "\n",
        "        val_loss = val_loss / len(val_loader.dataset)\n",
        "        val_accuracy = 100 * correct / total\n",
        "\n",
        "        epoch_time = time.time() - start_time\n",
        "\n",
        "        print(f\"Epoch [{epoch+1}/{num_epochs}], \"\n",
        "              f\"Train Loss: {epoch_loss:.4f}, \"\n",
        "              f\"Val Loss: {val_loss:.4f}, \"\n",
        "              f\"Val Accuracy: {val_accuracy:.2f}%, \"\n",
        "              f\"Time: {epoch_time:.2f}s\")\n",
        "\n",
        "# Train the model\n",
        "num_epochs = 20\n",
        "train_model(model, train_loader, val_loader, criterion, optimizer, num_epochs)\n",
        "\n",
        "# Save the trained model\n",
        "torch.save(model.state_dict(), 'cnn_model.pth')\n",
        "print(\"Training complete. Model saved as 'cnn_model.pth'\")"
      ],
      "metadata": {
        "colab": {
          "base_uri": "https://localhost:8080/"
        },
        "id": "zVXRZ1n51g2e",
        "outputId": "ce0a50ef-c21e-475e-a2d3-dae015423620"
      },
      "execution_count": null,
      "outputs": [
        {
          "output_type": "stream",
          "name": "stdout",
          "text": [
            "Epoch [1/20], Train Loss: 1.9452, Val Loss: 1.5096, Val Accuracy: 34.13%, Time: 103.35s\n",
            "Epoch [2/20], Train Loss: 1.4668, Val Loss: 1.4529, Val Accuracy: 35.71%, Time: 14.43s\n",
            "Epoch [3/20], Train Loss: 1.4216, Val Loss: 1.4112, Val Accuracy: 39.29%, Time: 14.42s\n",
            "Epoch [4/20], Train Loss: 1.3854, Val Loss: 1.4186, Val Accuracy: 42.46%, Time: 14.35s\n",
            "Epoch [5/20], Train Loss: 1.3774, Val Loss: 1.4071, Val Accuracy: 36.51%, Time: 14.53s\n",
            "Epoch [6/20], Train Loss: 1.3224, Val Loss: 1.3876, Val Accuracy: 40.08%, Time: 14.02s\n",
            "Epoch [7/20], Train Loss: 1.2139, Val Loss: 1.4869, Val Accuracy: 42.86%, Time: 14.01s\n",
            "Epoch [8/20], Train Loss: 0.9847, Val Loss: 1.5858, Val Accuracy: 32.94%, Time: 13.99s\n",
            "Epoch [9/20], Train Loss: 0.7263, Val Loss: 1.8698, Val Accuracy: 38.10%, Time: 14.02s\n",
            "Epoch [10/20], Train Loss: 0.4675, Val Loss: 2.1872, Val Accuracy: 38.89%, Time: 13.98s\n",
            "Epoch [11/20], Train Loss: 0.2737, Val Loss: 2.8447, Val Accuracy: 36.11%, Time: 13.93s\n",
            "Epoch [12/20], Train Loss: 0.2098, Val Loss: 2.9587, Val Accuracy: 36.51%, Time: 13.88s\n",
            "Epoch [13/20], Train Loss: 0.1288, Val Loss: 3.8505, Val Accuracy: 33.33%, Time: 13.95s\n",
            "Epoch [14/20], Train Loss: 0.1034, Val Loss: 4.0216, Val Accuracy: 34.13%, Time: 13.85s\n",
            "Epoch [15/20], Train Loss: 0.0713, Val Loss: 5.1842, Val Accuracy: 34.92%, Time: 14.03s\n",
            "Epoch [16/20], Train Loss: 0.0849, Val Loss: 4.9418, Val Accuracy: 36.11%, Time: 13.86s\n",
            "Epoch [17/20], Train Loss: 0.0651, Val Loss: 4.9602, Val Accuracy: 34.13%, Time: 14.09s\n",
            "Epoch [18/20], Train Loss: 0.0466, Val Loss: 5.0258, Val Accuracy: 34.92%, Time: 14.02s\n",
            "Epoch [19/20], Train Loss: 0.0715, Val Loss: 4.8739, Val Accuracy: 34.52%, Time: 14.13s\n",
            "Epoch [20/20], Train Loss: 0.0483, Val Loss: 5.4928, Val Accuracy: 33.73%, Time: 14.08s\n",
            "Training complete. Model saved as 'cnn_model.pth'\n"
          ]
        }
      ]
    },
    {
      "cell_type": "markdown",
      "source": [
        "After 20 epoch the best accuracy achieved is 42.86%\n",
        "\n",
        "#Confusion Matrix"
      ],
      "metadata": {
        "id": "L-EU-uiI19Ys"
      }
    },
    {
      "cell_type": "code",
      "source": [
        "# plot confusion matrix for above cnn model\n",
        "from sklearn.metrics import confusion_matrix\n",
        "import seaborn as sns\n",
        "\n",
        "def plot_confusion_matrix(model, data_loader):\n",
        "    model.eval()\n",
        "    y_true = []\n",
        "    y_pred = []\n",
        "\n",
        "    with torch.no_grad():\n",
        "        for inputs, labels in data_loader:\n",
        "            inputs, labels = inputs.to(device), labels.to(device)\n",
        "            outputs = model(inputs)\n",
        "            _, predicted = torch.max(outputs.data, 1)\n",
        "\n",
        "            y_true.extend(labels.cpu().numpy())\n",
        "            y_pred.extend(predicted.cpu().numpy())\n",
        "\n",
        "    cm = confusion_matrix(y_true, y_pred)\n",
        "    plt.figure(figsize=(8, 6))\n",
        "    sns.heatmap(cm, annot=True, fmt='d', cmap='Blues', cbar=False)\n",
        "    plt.xlabel('Predicted labels')\n",
        "    plt.ylabel('True labels')\n",
        "    plt.title('Confusion Matrix')\n",
        "    plt.show()\n",
        "\n",
        "# Load the trained model\n",
        "model = CNN()\n",
        "model.load_state_dict(torch.load('cnn_model.pth'))\n",
        "model.to(device)\n",
        "\n",
        "# Plot confusion matrix for the validation set\n",
        "plot_confusion_matrix(model, val_loader)\n",
        "\n"
      ],
      "metadata": {
        "id": "zQx3f9tX6_Nd",
        "colab": {
          "base_uri": "https://localhost:8080/",
          "height": 619
        },
        "outputId": "49814494-9276-440c-804a-f10dc89df800"
      },
      "execution_count": null,
      "outputs": [
        {
          "output_type": "stream",
          "name": "stderr",
          "text": [
            "/usr/local/lib/python3.12/dist-packages/torch/utils/data/dataloader.py:627: UserWarning: This DataLoader will create 4 worker processes in total. Our suggested max number of worker in current system is 2, which is smaller than what this DataLoader is going to create. Please be aware that excessive worker creation might get DataLoader running slow or even freeze, lower the worker number to avoid potential slowness/freeze if necessary.\n",
            "  warnings.warn(\n"
          ]
        },
        {
          "output_type": "display_data",
          "data": {
            "text/plain": [
              "<Figure size 800x600 with 1 Axes>"
            ],
            "image/png": "[encoded data removed]"
          },
          "metadata": {}
        }
      ]
    },
    {
      "cell_type": "markdown",
      "source": [
        "#Improved CNN"
      ],
      "metadata": {
        "id": "1a-IIahe31vB"
      }
    },
    {
      "cell_type": "markdown",
      "source": [
        "Sure! Let’s break down the CNN architecture you provided layer by layer. Your model has **3 convolutional blocks** followed by a fully connected classifier. I’ll also compute the output dimensions step by step (assuming the input is a **grayscale image of size 300×400**, because the classifier expects `128*37*50` features):\n",
        "\n",
        "---\n",
        "\n",
        "### **Input**\n",
        "\n",
        "* Shape: `(1, H, W)` → `(1, 300, 400)`\n",
        "* 1 channel (grayscale)\n",
        "\n",
        "---\n",
        "\n",
        "### **Feature Extractor (Convolutional Layers)**\n",
        "\n",
        "#### **Block 1**\n",
        "\n",
        "1. `Conv2d(1, 32, kernel_size=3, stride=1, padding=1)`\n",
        "\n",
        "   * Output: `(32, 300, 400)`\n",
        "     (Padding=1 keeps spatial size same)\n",
        "\n",
        "2. `BatchNorm2d(32)` → `(32, 300, 400)`\n",
        "\n",
        "3. `ReLU()` → `(32, 300, 400)`\n",
        "\n",
        "4. `MaxPool2d(kernel_size=2, stride=2)`\n",
        "\n",
        "   * Output: `(32, 150, 200)`\n",
        "\n",
        "5. `Dropout2d(0.25)` → `(32, 150, 200)`\n",
        "\n",
        "---\n",
        "\n",
        "#### **Block 2**\n",
        "\n",
        "1. `Conv2d(32, 64, kernel_size=3, stride=1, padding=1)` → `(64, 150, 200)`\n",
        "\n",
        "2. `BatchNorm2d(64)` → `(64, 150, 200)`\n",
        "\n",
        "3. `ReLU()` → `(64, 150, 200)`\n",
        "\n",
        "4. `MaxPool2d(2,2)` → `(64, 75, 100)`\n",
        "\n",
        "5. `Dropout2d(0.25)` → `(64, 75, 100)`\n",
        "\n",
        "---\n",
        "\n",
        "#### **Block 3**\n",
        "\n",
        "1. `Conv2d(64, 128, kernel_size=3, stride=1, padding=1)` → `(128, 75, 100)`\n",
        "\n",
        "2. `BatchNorm2d(128)` → `(128, 75, 100)`\n",
        "\n",
        "3. `ReLU()` → `(128, 75, 100)`\n",
        "\n",
        "4. `MaxPool2d(2,2)` → `(128, 37, 50)`\n",
        "   (This matches the flattened size used in the classifier: `128*37*50 = 236,800`)\n",
        "\n",
        "5. `Dropout2d(0.25)` → `(128, 37, 50)`\n",
        "\n",
        "---\n",
        "\n",
        "### **Classifier (Fully Connected Layers)**\n",
        "\n",
        "1. Flatten → `(128*37*50) = 236,800` features\n",
        "\n",
        "2. `Linear(236,800 → 512)` → `(512)`\n",
        "\n",
        "3. `BatchNorm1d(512)` → `(512)`\n",
        "\n",
        "4. `ReLU()` → `(512)`\n",
        "\n",
        "5. `Dropout(0.5)` → `(512)`\n",
        "\n",
        "6. `Linear(512 → 5)` → `(5)`\n",
        "\n",
        "   * Output: logits for **5 classes**\n",
        "\n",
        "---\n",
        "\n",
        "### ✅ **Summary Table**\n",
        "\n",
        "| Layer       | Type               | Output Shape   |\n",
        "| ----------- | ------------------ | -------------- |\n",
        "| Input       | -                  | (1, 300, 400)  |\n",
        "| Conv1       | Conv2d 1→32        | (32, 300, 400) |\n",
        "| BN1         | BatchNorm2d        | (32, 300, 400) |\n",
        "| ReLU1       | ReLU               | (32, 300, 400) |\n",
        "| MaxPool1    | MaxPool2d 2x2      | (32, 150, 200) |\n",
        "| Dropout1    | Dropout2d 0.25     | (32, 150, 200) |\n",
        "| Conv2       | Conv2d 32→64       | (64, 150, 200) |\n",
        "| BN2         | BatchNorm2d        | (64, 150, 200) |\n",
        "| ReLU2       | ReLU               | (64, 150, 200) |\n",
        "| MaxPool2    | MaxPool2d 2x2      | (64, 75, 100)  |\n",
        "| Dropout2    | Dropout2d 0.25     | (64, 75, 100)  |\n",
        "| Conv3       | Conv2d 64→128      | (128, 75, 100) |\n",
        "| BN3         | BatchNorm2d        | (128, 75, 100) |\n",
        "| ReLU3       | ReLU               | (128, 75, 100) |\n",
        "| MaxPool3    | MaxPool2d 2x2      | (128, 37, 50)  |\n",
        "| Dropout3    | Dropout2d 0.25     | (128, 37, 50)  |\n",
        "| Flatten     | -                  | (236,800)      |\n",
        "| FC1         | Linear 236,800→512 | (512)          |\n",
        "| BN\\_fc      | BatchNorm1d        | (512)          |\n",
        "| ReLU\\_fc    | ReLU               | (512)          |\n",
        "| Dropout\\_fc | Dropout 0.5        | (512)          |\n",
        "| FC2         | Linear 512→5       | (5)            |\n",
        "\n",
        "---\n",
        "\n"
      ],
      "metadata": {
        "id": "ODbN5MCZAkL2"
      }
    },
    {
      "cell_type": "code",
      "source": [
        "import torch\n",
        "import torch.nn as nn\n",
        "import torch.optim as optim\n",
        "from torch.utils.data import DataLoader\n",
        "import torchvision.transforms as transforms\n",
        "import time\n",
        "\n",
        "class CNN(nn.Module):\n",
        "    def __init__(self):\n",
        "        super(CNN, self).__init__()\n",
        "        self.features = nn.Sequential(\n",
        "            nn.Conv2d(1, 32, kernel_size=3, stride=1, padding=1),\n",
        "            nn.BatchNorm2d(32),\n",
        "            nn.ReLU(),\n",
        "            nn.MaxPool2d(kernel_size=2, stride=2),\n",
        "            nn.Dropout2d(0.25),\n",
        "\n",
        "            nn.Conv2d(32, 64, kernel_size=3, stride=1, padding=1),\n",
        "            nn.BatchNorm2d(64),\n",
        "            nn.ReLU(),\n",
        "            nn.MaxPool2d(kernel_size=2, stride=2),\n",
        "            nn.Dropout2d(0.25),\n",
        "\n",
        "            nn.Conv2d(64, 128, kernel_size=3, stride=1, padding=1),\n",
        "            nn.BatchNorm2d(128),\n",
        "            nn.ReLU(),\n",
        "            nn.MaxPool2d(kernel_size=2, stride=2),\n",
        "            nn.Dropout2d(0.25)\n",
        "        )\n",
        "\n",
        "        self.classifier = nn.Sequential(\n",
        "            nn.Linear(128 * 37 * 50, 512),\n",
        "            nn.BatchNorm1d(512),\n",
        "            nn.ReLU(),\n",
        "            nn.Dropout(0.5),\n",
        "            nn.Linear(512, 5)\n",
        "        )\n",
        "\n",
        "    def forward(self, x):\n",
        "        x = self.features(x)\n",
        "        x = x.view(x.size(0), -1)\n",
        "        x = self.classifier(x)\n",
        "        return x\n",
        "\n",
        "# Data augmentation and normalization for training\n",
        "# Just normalization for validation\n",
        "train_transform = transforms.Compose([\n",
        "    transforms.RandomHorizontalFlip(),\n",
        "    transforms.RandomRotation(10),\n",
        "    transforms.RandomAffine(0, shear=10, scale=(0.8, 1.2)),\n",
        "    transforms.ColorJitter(brightness=0.2, contrast=0.2),\n",
        "    transforms.ToTensor(),\n",
        "    transforms.Normalize((0.5,), (0.5,))\n",
        "])\n",
        "\n",
        "val_transform = transforms.Compose([\n",
        "    transforms.ToTensor(),\n",
        "    transforms.Normalize((0.5,), (0.5,))\n",
        "])\n",
        "\n",
        "# Update your datasets with these transforms\n",
        "train_dataset.dataset.transform = train_transform\n",
        "val_dataset.transform = val_transform\n",
        "\n",
        "# Re-create data loaders with the updated datasets\n",
        "train_loader = DataLoader(train_dataset, batch_size=32, shuffle=True, num_workers=4)\n",
        "val_loader = DataLoader(val_dataset, batch_size=32, shuffle=False, num_workers=4)\n",
        "\n",
        "# Initialize the model, loss function, and optimizer\n",
        "device = torch.device(\"cuda\" if torch.cuda.is_available() else \"cpu\")\n",
        "model = CNN().to(device)\n",
        "criterion = nn.CrossEntropyLoss()\n",
        "optimizer = optim.Adam(model.parameters(), lr=0.001, weight_decay=1e-5)\n",
        "\n",
        "# Training function\n",
        "def train_model(model, train_loader, val_loader, criterion, optimizer, num_epochs=20):\n",
        "    for epoch in range(num_epochs):\n",
        "        model.train()\n",
        "        running_loss = 0.0\n",
        "        start_time = time.time()\n",
        "\n",
        "        for inputs, labels in train_loader:\n",
        "            inputs, labels = inputs.to(device), labels.to(device)\n",
        "\n",
        "            optimizer.zero_grad()\n",
        "            outputs = model(inputs)\n",
        "            loss = criterion(outputs, labels)\n",
        "            loss.backward()\n",
        "            optimizer.step()\n",
        "\n",
        "            running_loss += loss.item() * inputs.size(0)\n",
        "\n",
        "        epoch_loss = running_loss / len(train_loader.dataset)\n",
        "\n",
        "        # Validation\n",
        "        model.eval()\n",
        "        val_loss = 0.0\n",
        "        correct = 0\n",
        "        total = 0\n",
        "\n",
        "        with torch.no_grad():\n",
        "            for inputs, labels in val_loader:\n",
        "                inputs, labels = inputs.to(device), labels.to(device)\n",
        "                outputs = model(inputs)\n",
        "                loss = criterion(outputs, labels)\n",
        "                val_loss += loss.item() * inputs.size(0)\n",
        "\n",
        "                _, predicted = torch.max(outputs.data, 1)\n",
        "                total += labels.size(0)\n",
        "                correct += (predicted == labels).sum().item()\n",
        "\n",
        "        val_loss = val_loss / len(val_loader.dataset)\n",
        "        val_accuracy = 100 * correct / total\n",
        "\n",
        "        epoch_time = time.time() - start_time\n",
        "\n",
        "        print(f\"Epoch [{epoch+1}/{num_epochs}], \"\n",
        "              f\"Train Loss: {epoch_loss:.4f}, \"\n",
        "              f\"Val Loss: {val_loss:.4f}, \"\n",
        "              f\"Val Accuracy: {val_accuracy:.2f}%, \"\n",
        "              f\"Time: {epoch_time:.2f}s\")\n",
        "\n",
        "# Train the model\n",
        "num_epochs = 20\n",
        "train_model(model, train_loader, val_loader, criterion, optimizer, num_epochs)\n",
        "\n",
        "# Save the trained model\n",
        "torch.save(model.state_dict(), 'cnn_model_improved.pth')\n",
        "print(\"Training complete. Model saved as 'cnn_model_improved.pth'\")"
      ],
      "metadata": {
        "colab": {
          "base_uri": "https://localhost:8080/"
        },
        "id": "vxAwrHIe36JA",
        "outputId": "152683fb-e4f2-4ddd-ac2f-7c116a6e402f"
      },
      "execution_count": null,
      "outputs": [
        {
          "output_type": "stream",
          "name": "stderr",
          "text": [
            "/usr/local/lib/python3.12/dist-packages/torch/utils/data/dataloader.py:627: UserWarning: This DataLoader will create 4 worker processes in total. Our suggested max number of worker in current system is 2, which is smaller than what this DataLoader is going to create. Please be aware that excessive worker creation might get DataLoader running slow or even freeze, lower the worker number to avoid potential slowness/freeze if necessary.\n",
            "  warnings.warn(\n"
          ]
        },
        {
          "output_type": "stream",
          "name": "stdout",
          "text": [
            "Epoch [1/20], Train Loss: 1.6100, Val Loss: 1.4225, Val Accuracy: 38.89%, Time: 20.24s\n",
            "Epoch [2/20], Train Loss: 1.4725, Val Loss: 1.4094, Val Accuracy: 43.25%, Time: 19.06s\n",
            "Epoch [3/20], Train Loss: 1.4342, Val Loss: 1.3929, Val Accuracy: 36.90%, Time: 18.45s\n",
            "Epoch [4/20], Train Loss: 1.4189, Val Loss: 1.3887, Val Accuracy: 39.29%, Time: 19.31s\n",
            "Epoch [5/20], Train Loss: 1.4242, Val Loss: 1.4154, Val Accuracy: 35.71%, Time: 19.13s\n",
            "Epoch [6/20], Train Loss: 1.4086, Val Loss: 1.3911, Val Accuracy: 36.11%, Time: 18.51s\n",
            "Epoch [7/20], Train Loss: 1.4069, Val Loss: 1.3720, Val Accuracy: 40.87%, Time: 19.48s\n",
            "Epoch [8/20], Train Loss: 1.3904, Val Loss: 1.3787, Val Accuracy: 40.48%, Time: 18.61s\n",
            "Epoch [9/20], Train Loss: 1.3722, Val Loss: 1.3718, Val Accuracy: 41.27%, Time: 18.42s\n",
            "Epoch [10/20], Train Loss: 1.3949, Val Loss: 1.3617, Val Accuracy: 42.06%, Time: 19.84s\n",
            "Epoch [11/20], Train Loss: 1.3857, Val Loss: 1.3543, Val Accuracy: 42.06%, Time: 18.41s\n",
            "Epoch [12/20], Train Loss: 1.3759, Val Loss: 1.3338, Val Accuracy: 41.67%, Time: 18.34s\n",
            "Epoch [13/20], Train Loss: 1.3520, Val Loss: 1.3368, Val Accuracy: 40.48%, Time: 19.12s\n",
            "Epoch [14/20], Train Loss: 1.3645, Val Loss: 1.3673, Val Accuracy: 40.48%, Time: 18.93s\n",
            "Epoch [15/20], Train Loss: 1.3492, Val Loss: 1.3391, Val Accuracy: 44.44%, Time: 18.53s\n",
            "Epoch [16/20], Train Loss: 1.3526, Val Loss: 1.3553, Val Accuracy: 41.27%, Time: 19.20s\n",
            "Epoch [17/20], Train Loss: 1.3447, Val Loss: 1.3500, Val Accuracy: 40.08%, Time: 19.03s\n",
            "Epoch [18/20], Train Loss: 1.3371, Val Loss: 1.3487, Val Accuracy: 42.46%, Time: 18.61s\n",
            "Epoch [19/20], Train Loss: 1.3459, Val Loss: 1.3220, Val Accuracy: 43.65%, Time: 18.98s\n",
            "Epoch [20/20], Train Loss: 1.3385, Val Loss: 1.3425, Val Accuracy: 41.27%, Time: 18.90s\n",
            "Training complete. Model saved as 'cnn_model_improved.pth'\n"
          ]
        }
      ]
    },
    {
      "cell_type": "markdown",
      "source": [
        "| Stage   | Layer                                  | Output Shape      |\n",
        "| ------- | -------------------------------------- | ----------------- |\n",
        "| Input   | -                                      | `(1, H, W)`       |\n",
        "| Conv1   | Conv2d(1,32)+BN+ReLU+MaxPool+Dropout   | `(32, H/2, W/2)`  |\n",
        "| Conv2   | Conv2d(32,64)+BN+ReLU+MaxPool+Dropout  | `(64, H/4, W/4)`  |\n",
        "| Conv3   | Conv2d(64,128)+BN+ReLU+MaxPool+Dropout | `(128, H/8, W/8)` |\n",
        "| Flatten | -                                      | `(128*H/8*W/8)`   |\n",
        "| FC1     | Linear+BN+ReLU+Dropout                 | `(512)`           |\n",
        "| FC2     | Linear                                 | `(5)`             |\n"
      ],
      "metadata": {
        "id": "YZ5IgcPz5H6n"
      }
    },
    {
      "cell_type": "markdown",
      "source": [
        "The accuracy has increased by not to large extent. It has increased by roughly  and the best accuracy achieved is 43.25%"
      ],
      "metadata": {
        "id": "8-bnp-om6DPI"
      }
    },
    {
      "cell_type": "markdown",
      "source": [
        "##Confusion matrix"
      ],
      "metadata": {
        "id": "Acvzr1d049mk"
      }
    },
    {
      "cell_type": "code",
      "source": [
        "import numpy as np\n",
        "import matplotlib.pyplot as plt\n",
        "import seaborn as sns\n",
        "from sklearn.metrics import confusion_matrix\n",
        "import torch\n",
        "\n",
        "def plot_confusion_matrix(model, data_loader, device):\n",
        "    model.eval()\n",
        "    y_true = []\n",
        "    y_pred = []\n",
        "\n",
        "    with torch.no_grad():\n",
        "        for inputs, labels in data_loader:\n",
        "            inputs, labels = inputs.to(device), labels.to(device)\n",
        "            outputs = model(inputs)\n",
        "            _, predicted = torch.max(outputs.data, 1)\n",
        "            y_true.extend(labels.cpu().numpy())\n",
        "            y_pred.extend(predicted.cpu().numpy())\n",
        "\n",
        "    # Convert numeric labels to letter labels\n",
        "    label_map = {0: 'A', 1: 'B', 2: 'C', 3: 'D', 4: 'S'}\n",
        "    y_true = [label_map[y] for y in y_true]\n",
        "    y_pred = [label_map[y] for y in y_pred]\n",
        "\n",
        "    # Create confusion matrix\n",
        "    cm = confusion_matrix(y_true, y_pred, labels=['A', 'B', 'C', 'D', 'S'])\n",
        "\n",
        "    # Plot confusion matrix\n",
        "    plt.figure(figsize=(10, 8))\n",
        "    sns.heatmap(cm, annot=True, fmt='d', cmap='Blues', cbar=True,\n",
        "                xticklabels=['A', 'B', 'C', 'D', 'S'],\n",
        "                yticklabels=['A', 'B', 'C', 'D', 'S'])\n",
        "    plt.xlabel('Predicted labels')\n",
        "    plt.ylabel('True labels')\n",
        "    plt.title('Confusion Matrix for CNN model')\n",
        "    plt.show()\n",
        "\n",
        "# Load the trained model\n",
        "model = CNN()\n",
        "model.load_state_dict(torch.load('cnn_model_improved.pth'))\n",
        "model.to(device)\n",
        "\n",
        "# Plot confusion matrix for the validation set\n",
        "plot_confusion_matrix(model, val_loader, device)"
      ],
      "metadata": {
        "colab": {
          "base_uri": "https://localhost:8080/",
          "height": 718
        },
        "id": "Ph6k9UiG5oBm",
        "outputId": "2f24eddf-4c8a-4484-dc6e-0e67c8aaad3e"
      },
      "execution_count": null,
      "outputs": [
        {
          "output_type": "display_data",
          "data": {
            "text/plain": [
              "<Figure size 1000x800 with 2 Axes>"
            ],
            "image/png": "[encoded data removed]"
          },
          "metadata": {}
        }
      ]
    },
    {
      "cell_type": "markdown",
      "source": [
        "#Loss"
      ],
      "metadata": {
        "id": "ipfSFdoM7O2n"
      }
    },
    {
      "cell_type": "code",
      "source": [
        "import matplotlib.pyplot as plt\n",
        "\n",
        "# Data\n",
        "epochs = list(range(1, 21))\n",
        "# Training loss per epoch\n",
        "train_loss = [1.6425, 1.4883, 1.4609, 1.4419, 1.4204, 1.4115, 1.4140, 1.3880, 1.3959, 1.3825, 1.3627, 1.3674, 1.3848, 1.3515, 1.3700, 1.3473, 1.3449, 1.3575, 1.3577, 1.3338]\n",
        "\n",
        "# Validation loss per epoch\n",
        "val_loss = [1.3585, 1.3710, 1.3422, 1.3265, 1.3202, 1.3093, 1.3359, 1.2953, 1.3220, 1.3000,1.2825, 1.2964, 1.3022, 1.2946, 1.2697, 1.2567, 1.3004, 1.3134, 1.2843, 1.2724]\n",
        "\n",
        "# val_accuracy= [40.48, 42.86, 43.65, 38.89, 40.48, 43.65, 44.44, 50.79, 47.62, 41.27, 42.86, 43.65, 51.59, 41.27, 45.24, 44.44, 50.79, 44.44, 47.62, 45.24, 42.86, 52.38, 41.27, 49.21, 49.21, 46.83, 50.00, 42.06, 46.83, 48.41, 48.41, 48.41, 42.06, 47.62, 50.79, 49.21, 50.79, 50.00, 49.21, 46.83, 46.03, 50.79, 48.41, 46.83, 46.03, 52.38, 51.59, 46.03, 45.24, 46.03]\n",
        "plt.plot(epochs, train_loss, label='Train Loss')\n",
        "plt.plot(epochs, val_loss, label='Val Loss')\n",
        "plt.xlabel('Epochs')\n",
        "plt.ylabel('Loss')\n",
        "plt.legend()\n",
        "plt.title('Training and Validation Loss for CNN Model')\n",
        "plt.show()"
      ],
      "metadata": {
        "colab": {
          "base_uri": "https://localhost:8080/",
          "height": 472
        },
        "id": "rzdLj3Yi7QRS",
        "outputId": "fb6db792-6ef4-4cb4-e842-2c1df0fb5476"
      },
      "execution_count": null,
      "outputs": [
        {
          "output_type": "display_data",
          "data": {
            "text/plain": [
              "<Figure size 640x480 with 1 Axes>"
            ],
            "image/png": "[encoded data removed]"
          },
          "metadata": {}
        }
      ]
    },
    {
      "cell_type": "markdown",
      "source": [
        "#Accuracy"
      ],
      "metadata": {
        "id": "gujSMBQi7_wq"
      }
    },
    {
      "cell_type": "code",
      "source": [
        "# plot for val accuracy\n",
        "import matplotlib.pyplot as plt\n",
        "val_accuracy = [\n",
        "    38.89,  # Epoch 1\n",
        "    43.25,  # Epoch 2\n",
        "    36.90,  # Epoch 3\n",
        "    39.29,  # Epoch 4\n",
        "    35.71,  # Epoch 5\n",
        "    36.11,  # Epoch 6\n",
        "    40.87,  # Epoch 7\n",
        "    40.48,  # Epoch 8\n",
        "    41.27,  # Epoch 9\n",
        "    42.06,  # Epoch 10\n",
        "    42.06,  # Epoch 11\n",
        "    41.67,  # Epoch 12\n",
        "    40.48,  # Epoch 13\n",
        "    40.48,  # Epoch 14\n",
        "    44.44,  # Epoch 15\n",
        "    41.27,  # Epoch 16\n",
        "    40.08,  # Epoch 17\n",
        "    42.46,  # Epoch 18\n",
        "    43.65,  # Epoch 19\n",
        "    41.27   # Epoch 20\n",
        "]\n",
        "epochs=[]\n",
        "for i in range(20):\n",
        "  epochs.append(i+1)\n",
        "plt.plot(epochs, val_accuracy, label='Val Accuracy', color='green')\n",
        "plt.xlabel('Epochs')\n",
        "plt.ylabel('Accuracy')\n",
        "plt.legend()\n",
        "plt.title('Validation Accuracy for CNN Model')\n",
        "plt.ylim(30, 70)\n",
        "plt.show()"
      ],
      "metadata": {
        "colab": {
          "base_uri": "https://localhost:8080/",
          "height": 472
        },
        "id": "6pniqiJb8B27",
        "outputId": "daa593ad-4d39-4736-eb2b-9fc89d23bf19"
      },
      "execution_count": 2,
      "outputs": [
        {
          "output_type": "display_data",
          "data": {
            "text/plain": [
              "<Figure size 640x480 with 1 Axes>"
            ],
            "image/png": "[encoded data removed]"
          },
          "metadata": {}
        }
      ]
    },
    {
      "cell_type": "markdown",
      "source": [
        "#Save prediction"
      ],
      "metadata": {
        "id": "wdV29K7J8aSW"
      }
    },
    {
      "cell_type": "code",
      "source": [
        "# make a csv file to submit it should have 2 columns , ID and Predictions where predictions from 1 to 5 are A,B,C,D,E respectively and ID is the name of the file from test data\n",
        "\n",
        "# Load the model\n",
        "model = CNN().to(device)\n",
        "model.load_state_dict(torch.load('cnn_model_improved.pth'))\n",
        "model.eval()\n",
        "\n",
        "# Make predictions\n",
        "predictions = []\n",
        "\n",
        "with torch.no_grad():\n",
        "    for inputs, img_names in test_loader:\n",
        "        inputs = inputs.to(device)\n",
        "        outputs = model(inputs)\n",
        "        _, predicted = torch.max(outputs, 1)\n",
        "        predictions.extend(zip(img_names, predicted.cpu().numpy()))\n",
        "\n",
        "# Save predictions to a CSV file\n",
        "df = pd.DataFrame(predictions, columns=['ID', 'Predictions'])\n",
        "df.to_csv('predictions.csv', index=False)\n",
        "print(\"Predictions saved to 'predictions.csv'\")\n"
      ],
      "metadata": {
        "colab": {
          "base_uri": "https://localhost:8080/"
        },
        "id": "-GncE-GS8TEH",
        "outputId": "30a1620f-80e7-4c32-dd28-8ac90b60bfc2"
      },
      "execution_count": null,
      "outputs": [
        {
          "output_type": "stream",
          "name": "stderr",
          "text": [
            "/usr/local/lib/python3.12/dist-packages/torch/utils/data/dataloader.py:627: UserWarning: This DataLoader will create 4 worker processes in total. Our suggested max number of worker in current system is 2, which is smaller than what this DataLoader is going to create. Please be aware that excessive worker creation might get DataLoader running slow or even freeze, lower the worker number to avoid potential slowness/freeze if necessary.\n",
            "  warnings.warn(\n"
          ]
        },
        {
          "output_type": "stream",
          "name": "stdout",
          "text": [
            "Predictions saved to 'predictions.csv'\n"
          ]
        }
      ]
    },
    {
      "cell_type": "code",
      "source": [
        "df.head()"
      ],
      "metadata": {
        "colab": {
          "base_uri": "https://localhost:8080/",
          "height": 206
        },
        "id": "Y_DnKxYJ8suu",
        "outputId": "560183a1-921a-4fa8-8993-8696d907e283"
      },
      "execution_count": null,
      "outputs": [
        {
          "output_type": "execute_result",
          "data": {
            "text/plain": [
              "        ID  Predictions\n",
              "0    1.jpg            3\n",
              "1   10.jpg            2\n",
              "2  100.jpg            3\n",
              "3  101.jpg            2\n",
              "4  102.jpg            3"
            ],
            "text/html": [
              "\n",
              "  <div id=\"df-8854bdf2-d56c-4407-9486-754f271288c7\" class=\"colab-df-container\">\n",
              "    <div>\n",
              "<style scoped>\n",
              "    .dataframe tbody tr th:only-of-type {\n",
              "        vertical-align: middle;\n",
              "    }\n",
              "\n",
              "    .dataframe tbody tr th {\n",
              "        vertical-align: top;\n",
              "    }\n",
              "\n",
              "    .dataframe thead th {\n",
              "        text-align: right;\n",
              "    }\n",
              "</style>\n",
              "<table border=\"1\" class=\"dataframe\">\n",
              "  <thead>\n",
              "    <tr style=\"text-align: right;\">\n",
              "      <th></th>\n",
              "      <th>ID</th>\n",
              "      <th>Predictions</th>\n",
              "    </tr>\n",
              "  </thead>\n",
              "  <tbody>\n",
              "    <tr>\n",
              "      <th>0</th>\n",
              "      <td>1.jpg</td>\n",
              "      <td>3</td>\n",
              "    </tr>\n",
              "    <tr>\n",
              "      <th>1</th>\n",
              "      <td>10.jpg</td>\n",
              "      <td>2</td>\n",
              "    </tr>\n",
              "    <tr>\n",
              "      <th>2</th>\n",
              "      <td>100.jpg</td>\n",
              "      <td>3</td>\n",
              "    </tr>\n",
              "    <tr>\n",
              "      <th>3</th>\n",
              "      <td>101.jpg</td>\n",
              "      <td>2</td>\n",
              "    </tr>\n",
              "    <tr>\n",
              "      <th>4</th>\n",
              "      <td>102.jpg</td>\n",
              "      <td>3</td>\n",
              "    </tr>\n",
              "  </tbody>\n",
              "</table>\n",
              "</div>\n",
              "    <div class=\"colab-df-buttons\">\n",
              "\n",
              "  <div class=\"colab-df-container\">\n",
              "    <button class=\"colab-df-convert\" onclick=\"convertToInteractive('df-8854bdf2-d56c-4407-9486-754f271288c7')\"\n",
              "            title=\"Convert this dataframe to an interactive table.\"\n",
              "            style=\"display:none;\">\n",
              "\n",
              "  <svg xmlns=\"http://www.w3.org/2000/svg\" height=\"24px\" viewBox=\"0 -960 960 960\">\n",
              "    <path d=\"M120-120v-720h720v720H120Zm60-500h600v-160H180v160Zm220 220h160v-160H400v160Zm0 220h160v-160H400v160ZM180-400h160v-160H180v160Zm440 0h160v-160H620v160ZM180-180h160v-160H180v160Zm440 0h160v-160H620v160Z\"/>\n",
              "  </svg>\n",
              "    </button>\n",
              "\n",
              "  <style>\n",
              "    .colab-df-container {\n",
              "      display:flex;\n",
              "      gap: 12px;\n",
              "    }\n",
              "\n",
              "    .colab-df-convert {\n",
              "      background-color: #E8F0FE;\n",
              "      border: none;\n",
              "      border-radius: 50%;\n",
              "      cursor: pointer;\n",
              "      display: none;\n",
              "      fill: #1967D2;\n",
              "      height: 32px;\n",
              "      padding: 0 0 0 0;\n",
              "      width: 32px;\n",
              "    }\n",
              "\n",
              "    .colab-df-convert:hover {\n",
              "      background-color: #E2EBFA;\n",
              "      box-shadow: 0px 1px 2px rgba(60, 64, 67, 0.3), 0px 1px 3px 1px rgba(60, 64, 67, 0.15);\n",
              "      fill: #174EA6;\n",
              "    }\n",
              "\n",
              "    .colab-df-buttons div {\n",
              "      margin-bottom: 4px;\n",
              "    }\n",
              "\n",
              "    [theme=dark] .colab-df-convert {\n",
              "      background-color: #3B4455;\n",
              "      fill: #D2E3FC;\n",
              "    }\n",
              "\n",
              "    [theme=dark] .colab-df-convert:hover {\n",
              "      background-color: #434B5C;\n",
              "      box-shadow: 0px 1px 3px 1px rgba(0, 0, 0, 0.15);\n",
              "      filter: drop-shadow(0px 1px 2px rgba(0, 0, 0, 0.3));\n",
              "      fill: #FFFFFF;\n",
              "    }\n",
              "  </style>\n",
              "\n",
              "    <script>\n",
              "      const buttonEl =\n",
              "        document.querySelector('#df-8854bdf2-d56c-4407-9486-754f271288c7 button.colab-df-convert');\n",
              "      buttonEl.style.display =\n",
              "        google.colab.kernel.accessAllowed ? 'block' : 'none';\n",
              "\n",
              "      async function convertToInteractive(key) {\n",
              "        const element = document.querySelector('#df-8854bdf2-d56c-4407-9486-754f271288c7');\n",
              "        const dataTable =\n",
              "          await google.colab.kernel.invokeFunction('convertToInteractive',\n",
              "                                                    [key], {});\n",
              "        if (!dataTable) return;\n",
              "\n",
              "        const docLinkHtml = 'Like what you see? Visit the ' +\n",
              "          '<a target=\"_blank\" href=https://colab.research.google.com/notebooks/data_table.ipynb>data table notebook</a>'\n",
              "          + ' to learn more about interactive tables.';\n",
              "        element.innerHTML = '';\n",
              "        dataTable['output_type'] = 'display_data';\n",
              "        await google.colab.output.renderOutput(dataTable, element);\n",
              "        const docLink = document.createElement('div');\n",
              "        docLink.innerHTML = docLinkHtml;\n",
              "        element.appendChild(docLink);\n",
              "      }\n",
              "    </script>\n",
              "  </div>\n",
              "\n",
              "\n",
              "    <div id=\"df-5c716344-1a0b-418c-9ce7-beffd2742193\">\n",
              "      <button class=\"colab-df-quickchart\" onclick=\"quickchart('df-5c716344-1a0b-418c-9ce7-beffd2742193')\"\n",
              "                title=\"Suggest charts\"\n",
              "                style=\"display:none;\">\n",
              "\n",
              "<svg xmlns=\"http://www.w3.org/2000/svg\" height=\"24px\"viewBox=\"0 0 24 24\"\n",
              "     width=\"24px\">\n",
              "    <g>\n",
              "        <path d=\"M19 3H5c-1.1 0-2 .9-2 2v14c0 1.1.9 2 2 2h14c1.1 0 2-.9 2-2V5c0-1.1-.9-2-2-2zM9 17H7v-7h2v7zm4 0h-2V7h2v10zm4 0h-2v-4h2v4z\"/>\n",
              "    </g>\n",
              "</svg>\n",
              "      </button>\n",
              "\n",
              "<style>\n",
              "  .colab-df-quickchart {\n",
              "      --bg-color: #E8F0FE;\n",
              "      --fill-color: #1967D2;\n",
              "      --hover-bg-color: #E2EBFA;\n",
              "      --hover-fill-color: #174EA6;\n",
              "      --disabled-fill-color: #AAA;\n",
              "      --disabled-bg-color: #DDD;\n",
              "  }\n",
              "\n",
              "  [theme=dark] .colab-df-quickchart {\n",
              "      --bg-color: #3B4455;\n",
              "      --fill-color: #D2E3FC;\n",
              "      --hover-bg-color: #434B5C;\n",
              "      --hover-fill-color: #FFFFFF;\n",
              "      --disabled-bg-color: #3B4455;\n",
              "      --disabled-fill-color: #666;\n",
              "  }\n",
              "\n",
              "  .colab-df-quickchart {\n",
              "    background-color: var(--bg-color);\n",
              "    border: none;\n",
              "    border-radius: 50%;\n",
              "    cursor: pointer;\n",
              "    display: none;\n",
              "    fill: var(--fill-color);\n",
              "    height: 32px;\n",
              "    padding: 0;\n",
              "    width: 32px;\n",
              "  }\n",
              "\n",
              "  .colab-df-quickchart:hover {\n",
              "    background-color: var(--hover-bg-color);\n",
              "    box-shadow: 0 1px 2px rgba(60, 64, 67, 0.3), 0 1px 3px 1px rgba(60, 64, 67, 0.15);\n",
              "    fill: var(--button-hover-fill-color);\n",
              "  }\n",
              "\n",
              "  .colab-df-quickchart-complete:disabled,\n",
              "  .colab-df-quickchart-complete:disabled:hover {\n",
              "    background-color: var(--disabled-bg-color);\n",
              "    fill: var(--disabled-fill-color);\n",
              "    box-shadow: none;\n",
              "  }\n",
              "\n",
              "  .colab-df-spinner {\n",
              "    border: 2px solid var(--fill-color);\n",
              "    border-color: transparent;\n",
              "    border-bottom-color: var(--fill-color);\n",
              "    animation:\n",
              "      spin 1s steps(1) infinite;\n",
              "  }\n",
              "\n",
              "  @keyframes spin {\n",
              "    0% {\n",
              "      border-color: transparent;\n",
              "      border-bottom-color: var(--fill-color);\n",
              "      border-left-color: var(--fill-color);\n",
              "    }\n",
              "    20% {\n",
              "      border-color: transparent;\n",
              "      border-left-color: var(--fill-color);\n",
              "      border-top-color: var(--fill-color);\n",
              "    }\n",
              "    30% {\n",
              "      border-color: transparent;\n",
              "      border-left-color: var(--fill-color);\n",
              "      border-top-color: var(--fill-color);\n",
              "      border-right-color: var(--fill-color);\n",
              "    }\n",
              "    40% {\n",
              "      border-color: transparent;\n",
              "      border-right-color: var(--fill-color);\n",
              "      border-top-color: var(--fill-color);\n",
              "    }\n",
              "    60% {\n",
              "      border-color: transparent;\n",
              "      border-right-color: var(--fill-color);\n",
              "    }\n",
              "    80% {\n",
              "      border-color: transparent;\n",
              "      border-right-color: var(--fill-color);\n",
              "      border-bottom-color: var(--fill-color);\n",
              "    }\n",
              "    90% {\n",
              "      border-color: transparent;\n",
              "      border-bottom-color: var(--fill-color);\n",
              "    }\n",
              "  }\n",
              "</style>\n",
              "\n",
              "      <script>\n",
              "        async function quickchart(key) {\n",
              "          const quickchartButtonEl =\n",
              "            document.querySelector('#' + key + ' button');\n",
              "          quickchartButtonEl.disabled = true;  // To prevent multiple clicks.\n",
              "          quickchartButtonEl.classList.add('colab-df-spinner');\n",
              "          try {\n",
              "            const charts = await google.colab.kernel.invokeFunction(\n",
              "                'suggestCharts', [key], {});\n",
              "          } catch (error) {\n",
              "            console.error('Error during call to suggestCharts:', error);\n",
              "          }\n",
              "          quickchartButtonEl.classList.remove('colab-df-spinner');\n",
              "          quickchartButtonEl.classList.add('colab-df-quickchart-complete');\n",
              "        }\n",
              "        (() => {\n",
              "          let quickchartButtonEl =\n",
              "            document.querySelector('#df-5c716344-1a0b-418c-9ce7-beffd2742193 button');\n",
              "          quickchartButtonEl.style.display =\n",
              "            google.colab.kernel.accessAllowed ? 'block' : 'none';\n",
              "        })();\n",
              "      </script>\n",
              "    </div>\n",
              "\n",
              "    </div>\n",
              "  </div>\n"
            ],
            "application/vnd.google.colaboratory.intrinsic+json": {
              "type": "dataframe",
              "variable_name": "df",
              "summary": "{\n  \"name\": \"df\",\n  \"rows\": 478,\n  \"fields\": [\n    {\n      \"column\": \"ID\",\n      \"properties\": {\n        \"dtype\": \"string\",\n        \"num_unique_values\": 478,\n        \"samples\": [\n          \"91.jpg\",\n          \"129.jpg\",\n          \"217.jpg\"\n        ],\n        \"semantic_type\": \"\",\n        \"description\": \"\"\n      }\n    },\n    {\n      \"column\": \"Predictions\",\n      \"properties\": {\n        \"dtype\": \"number\",\n        \"std\": 0,\n        \"min\": 0,\n        \"max\": 4,\n        \"num_unique_values\": 5,\n        \"samples\": [\n          2,\n          1,\n          0\n        ],\n        \"semantic_type\": \"\",\n        \"description\": \"\"\n      }\n    }\n  ]\n}"
            }
          },
          "metadata": {},
          "execution_count": 14
        }
      ]
    },
    {
      "cell_type": "code",
      "source": [
        "# give the predictions in this format and save it as predictions.csv\n",
        "\n",
        "# Load the predictions\n",
        "df = pd.read_csv('predictions.csv')\n",
        "\n",
        "# remove the jpg extension from the ID column and sort by ID\n",
        "df['ID'] = df['ID'].str.replace('.jpg', '').astype(int)\n",
        "df = df.sort_values('ID').reset_index(drop=True)\n",
        "\n",
        "# now save the sorted predictions\n",
        "df.to_csv('predictions.csv', index=False)\n",
        "print(\"Predictions sorted and saved to 'predictions.csv'\")"
      ],
      "metadata": {
        "colab": {
          "base_uri": "https://localhost:8080/"
        },
        "id": "UpuR4Yok8-EV",
        "outputId": "0fd0498c-91b6-4713-a821-d50105e53403"
      },
      "execution_count": null,
      "outputs": [
        {
          "output_type": "stream",
          "name": "stdout",
          "text": [
            "Predictions sorted and saved to 'predictions.csv'\n"
          ]
        }
      ]
    },
    {
      "cell_type": "code",
      "source": [
        "# predictions are from 0 to 4 so we need to add 1 to each prediction\n",
        "df['Predictions'] += 1\n",
        "\n",
        "# Save the final predictions\n",
        "df.to_csv('predictions.csv', index=False)\n",
        "print(\"Final predictions saved to 'predictions.csv'\")"
      ],
      "metadata": {
        "colab": {
          "base_uri": "https://localhost:8080/"
        },
        "id": "2YKRa0hC9BcM",
        "outputId": "7164d999-aadd-4b03-d95d-448ac655c2c1"
      },
      "execution_count": null,
      "outputs": [
        {
          "output_type": "stream",
          "name": "stdout",
          "text": [
            "Final predictions saved to 'predictions.csv'\n"
          ]
        }
      ]
    },
    {
      "cell_type": "markdown",
      "source": [
        "##New Library Import"
      ],
      "metadata": {
        "id": "eg6wk3vq9Mnv"
      }
    },
    {
      "cell_type": "code",
      "source": [
        "import torch\n",
        "import torch.nn as nn\n",
        "import torch.optim as optim\n",
        "from torch.utils.data import DataLoader, Dataset, Subset\n",
        "import torchvision.transforms as transforms\n",
        "from torchvision.datasets import ImageFolder\n",
        "import timm\n",
        "import time\n",
        "import numpy as np\n",
        "from sklearn.model_selection import StratifiedShuffleSplit\n",
        "from sklearn.utils import class_weight\n",
        "import os\n",
        "from PIL import Image\n",
        "import random\n",
        "import csv"
      ],
      "metadata": {
        "id": "falA3u4k9PDR"
      },
      "execution_count": null,
      "outputs": []
    },
    {
      "cell_type": "markdown",
      "source": [
        "#Transformations on image"
      ],
      "metadata": {
        "id": "1pmZP4lX9TYH"
      }
    },
    {
      "cell_type": "code",
      "source": [
        "# Basic transformations for all images\n",
        "basic_transform = transforms.Compose([\n",
        "    transforms.Resize(256),\n",
        "    transforms.CenterCrop(224),\n",
        "    transforms.ToTensor(),\n",
        "    transforms.Normalize(mean=[0.485, 0.456, 0.406],  # ImageNet statistics\n",
        "                         std=[0.229, 0.224, 0.225]),\n",
        "])\n",
        "\n",
        "# Augmentation transformations to create additional samples\n",
        "augment_transform = transforms.Compose([\n",
        "    transforms.RandomHorizontalFlip(),\n",
        "    transforms.RandomRotation(20),\n",
        "    transforms.ColorJitter(brightness=0.2, contrast=0.2, saturation=0.2, hue=0.2),\n",
        "    transforms.RandomAffine(degrees=0, shear=10, scale=(0.8, 1.2)),\n",
        "])\n"
      ],
      "metadata": {
        "id": "Prx_rqKg9Rgs"
      },
      "execution_count": null,
      "outputs": []
    },
    {
      "cell_type": "code",
      "source": [
        "# Path to your training data\n",
        "train_data_path = base_dir = Path(\"/content/drive/MyDrive/Project2/Project 1 Data/Train_Data\")\n",
        "\n",
        "# Verify that the training data path exists\n",
        "if not os.path.isdir(train_data_path):\n",
        "    raise FileNotFoundError(f\"Training data directory not found at {train_data_path}\")\n",
        "\n",
        "# Load the full training dataset without any transformations initially\n",
        "full_train_dataset = ImageFolder(root=train_data_path, transform=None)\n",
        "\n",
        "# Extract labels for stratified splitting\n",
        "labels = [label for _, label in full_train_dataset.samples]\n"
      ],
      "metadata": {
        "id": "cDVV0rQL9Z8k"
      },
      "execution_count": null,
      "outputs": []
    },
    {
      "cell_type": "code",
      "source": [
        "# Define the split: 80% training and 20% validation\n",
        "split_ratio = 0.2\n",
        "split = StratifiedShuffleSplit(n_splits=1, test_size=split_ratio, random_state=42)\n",
        "train_idx, val_idx = next(split.split(np.zeros(len(labels)), labels))\n",
        "\n",
        "# Create training and validation subsets\n",
        "train_subset = Subset(full_train_dataset, train_idx)\n",
        "val_subset = Subset(full_train_dataset, val_idx)\n"
      ],
      "metadata": {
        "id": "_P6qEMgI9taO"
      },
      "execution_count": null,
      "outputs": []
    },
    {
      "cell_type": "markdown",
      "source": [
        "#Class Counts"
      ],
      "metadata": {
        "id": "mgVFH3zx9wZu"
      }
    },
    {
      "cell_type": "code",
      "source": [
        "# Function to compute class counts\n",
        "def get_class_counts(dataset):\n",
        "    class_counts = {}\n",
        "    for _, label in dataset:\n",
        "        if label in class_counts:\n",
        "            class_counts[label] += 1\n",
        "        else:\n",
        "            class_counts[label] = 1\n",
        "    return class_counts\n",
        "\n",
        "# Get class counts for the training subset\n",
        "train_class_counts = get_class_counts(train_subset)\n",
        "print(\"Class Counts in Training Set:\", train_class_counts)\n",
        "\n",
        "# Determine the maximum class count\n",
        "max_count = max(train_class_counts.values())\n",
        "print(\"Maximum class count:\", max_count)\n",
        "\n",
        "# Determine the number of samples to generate for each class\n",
        "augmentation_counts = {cls: max_count - count for cls, count in train_class_counts.items()}\n",
        "print(\"Number of Augmented Samples Needed per Class:\", augmentation_counts)\n"
      ],
      "metadata": {
        "colab": {
          "base_uri": "https://localhost:8080/"
        },
        "id": "8dfTQiSx91YK",
        "outputId": "28ea342f-b7b2-4b13-f1e8-7ad61c4afd85"
      },
      "execution_count": null,
      "outputs": [
        {
          "output_type": "stream",
          "name": "stdout",
          "text": [
            "Class Counts in Training Set: {4: 168, 3: 731, 1: 289, 0: 239, 2: 585}\n",
            "Maximum class count: 731\n",
            "Number of Augmented Samples Needed per Class: {4: 563, 3: 0, 1: 442, 0: 492, 2: 146}\n"
          ]
        }
      ]
    },
    {
      "cell_type": "code",
      "source": [
        "# plot the class distribution and the number of augmented samples needed\n",
        "import matplotlib.pyplot as plt\n",
        "\n",
        "# Sort the class counts by class index\n",
        "sorted_counts = {cls: train_class_counts[cls] for cls in sorted(train_class_counts.keys\n",
        "())}\n",
        "# get the class names from the dataset\n",
        "class_names = full_train_dataset.classes\n",
        "\n",
        "# Plot the class distribution by class name not by class index\n",
        "plt.figure(figsize=(12, 6))\n",
        "plt.bar(class_names, sorted_counts.values())\n",
        "plt.xlabel('Class')\n",
        "plt.ylabel('Count')\n",
        "plt.title('Class Distribution in Training Set')\n",
        "plt.show()#Class Counts in Training Set: {4: 168, 3: 731, 1: 289, 0: 239, 2: 585}\n",
        "\n",
        "# Plot the number of augmented samples needed by class index\n",
        "plt.figure(figsize=(12, 6))\n",
        "plt.bar(class_names, augmentation_counts.values())\n",
        "plt.xlabel('Class Index')\n",
        "plt.ylabel('Count')\n",
        "plt.title('Number of Augmented Samples Needed per Class')\n",
        "plt.show()"
      ],
      "metadata": {
        "colab": {
          "base_uri": "https://localhost:8080/",
          "height": 949
        },
        "id": "eDQaoJFA98XQ",
        "outputId": "e70700eb-3dcb-4718-dfd7-16969e43a994"
      },
      "execution_count": null,
      "outputs": [
        {
          "output_type": "display_data",
          "data": {
            "text/plain": [
              "<Figure size 1200x600 with 1 Axes>"
            ],
            "image/png": "[encoded data removed]"
          },
          "metadata": {}
        },
        {
          "output_type": "display_data",
          "data": {
            "text/plain": [
              "<Figure size 1200x600 with 1 Axes>"
            ],
            "image/png": "[encoded data removed]"
          },
          "metadata": {}
        }
      ]
    },
    {
      "cell_type": "markdown",
      "source": [
        "#Balancing the dataset"
      ],
      "metadata": {
        "id": "V-XMZHsi9_wi"
      }
    },
    {
      "cell_type": "code",
      "source": [
        "class BalancedDataset(Dataset):\n",
        "    def __init__(self, original_dataset, augmentation_counts, augment_transform, basic_transform):\n",
        "        \"\"\"\n",
        "        original_dataset: Subset of ImageFolder\n",
        "        augmentation_counts: dict mapping class index to number of samples to augment\n",
        "        augment_transform: Transformations to apply for augmentation\n",
        "        basic_transform: Basic transformations to apply to all images\n",
        "        \"\"\"\n",
        "        self.original_dataset = original_dataset\n",
        "        self.augmentation_counts = augmentation_counts\n",
        "        self.augment_transform = augment_transform\n",
        "        self.basic_transform = basic_transform\n",
        "\n",
        "        # Organize indices by class\n",
        "        self.class_to_indices = {}\n",
        "        for idx in range(len(original_dataset)):\n",
        "            _, label = original_dataset[idx]\n",
        "            if label not in self.class_to_indices:\n",
        "                self.class_to_indices[label] = []\n",
        "            self.class_to_indices[label].append(idx)\n",
        "\n",
        "        # Prepare lists of original and augmented samples\n",
        "        self.samples = []\n",
        "        for label, count in augmentation_counts.items():\n",
        "            original_indices = self.class_to_indices[label]\n",
        "            self.samples.extend(original_indices)  # Original samples\n",
        "\n",
        "            # Generate augmented samples\n",
        "            for _ in range(count):\n",
        "                original_idx = random.choice(original_indices)\n",
        "                self.samples.append(original_idx)  # Placeholder for augmented samples\n",
        "\n",
        "    def __len__(self):\n",
        "        return len(self.samples)\n",
        "\n",
        "    def __getitem__(self, idx):\n",
        "        original_idx = self.samples[idx]\n",
        "        image, label = self.original_dataset[original_idx]\n",
        "\n",
        "        # Check if this index is for an augmented sample\n",
        "        # Since we appended original indices first, the augmented samples are after\n",
        "        if original_idx in self.class_to_indices[label] and self.samples.count(original_idx) > 1:\n",
        "            # Apply augmentation\n",
        "            image = self.augment_transform(image)\n",
        "        else:\n",
        "            # Apply basic transform\n",
        "            image = self.basic_transform(image)\n",
        "\n",
        "        return image, label\n"
      ],
      "metadata": {
        "id": "9zVI3t0--G12"
      },
      "execution_count": null,
      "outputs": []
    },
    {
      "cell_type": "code",
      "source": [
        "# Initialize the balanced dataset\n",
        "balanced_train_dataset = BalancedDataset(\n",
        "    original_dataset=train_subset,\n",
        "    augmentation_counts=augmentation_counts,\n",
        "    augment_transform=augment_transform,\n",
        "    basic_transform=basic_transform\n",
        ")\n",
        "\n",
        "# Verify the new class counts\n",
        "def verify_balanced(dataset):\n",
        "    class_counts = {}\n",
        "    for _, label in dataset:\n",
        "        if label in class_counts:\n",
        "            class_counts[label] += 1\n",
        "        else:\n",
        "            class_counts[label] = 1\n",
        "    return class_counts\n",
        "\n",
        "balanced_train_class_counts = verify_balanced(balanced_train_dataset)\n",
        "print(\"Class Counts in Balanced Training Set:\", balanced_train_class_counts)\n"
      ],
      "metadata": {
        "colab": {
          "base_uri": "https://localhost:8080/"
        },
        "id": "PFB5kbwT-Mbo",
        "outputId": "1aa2bb7f-d9a4-4994-c862-f4f493d5de83"
      },
      "execution_count": null,
      "outputs": [
        {
          "output_type": "stream",
          "name": "stdout",
          "text": [
            "Class Counts in Balanced Training Set: {4: 731, 3: 731, 1: 731, 0: 731, 2: 731}\n"
          ]
        }
      ]
    },
    {
      "cell_type": "markdown",
      "source": [
        "Purpose of the Code\n",
        "\n",
        "The goal of this code is to balance the training dataset by augmenting underrepresented classes. In other words:\n",
        "\n",
        "If some classes have fewer images than others, we create more samples for those classes using augmentation.\n",
        "\n",
        "The dataset will still include the original images, but some images will be repeated with transformations applied to increase class balance.\n",
        "\n",
        "Summary of What Happens\n",
        "\n",
        "Original dataset is split by class indices.\n",
        "\n",
        "For each class, original samples are included.\n",
        "\n",
        "Additional samples are added according to augmentation_counts:\n",
        "\n",
        "These are indices repeated for augmentation.\n",
        "\n",
        "In __getitem__, repeated indices are augmented using augment_transform.\n",
        "\n",
        "verify_balanced checks the final number of samples per class.\n",
        "\n",
        "Effectively:\n",
        "\n",
        "Classes with fewer original images are augmented to balance the dataset.\n",
        "\n",
        "Classes with enough images are mostly unchanged.\n",
        "\n",
        "The dataset can now be used in a DataLoader for balanced training."
      ],
      "metadata": {
        "id": "sxset_nM-lUT"
      }
    },
    {
      "cell_type": "code",
      "source": [
        "# plot the class distribution of the balanced dataset\n",
        "# Sort the class counts by class index\n",
        "sorted_counts = {cls: balanced_train_class_counts[cls] for cls in sorted(balanced_train_class_counts.keys\n",
        "())}\n",
        "# get the class names from the dataset\n",
        "class_names = full_train_dataset.classes\n",
        "\n",
        "# Plot the class distribution by class name not by class index\n",
        "plt.figure(figsize=(12, 6))\n",
        "plt.bar(class_names, sorted_counts.values())\n",
        "plt.xlabel('Class')\n",
        "plt.ylabel('Count')\n",
        "plt.title('Class Distribution in Balanced Training Set')\n",
        "plt.show()"
      ],
      "metadata": {
        "colab": {
          "base_uri": "https://localhost:8080/",
          "height": 483
        },
        "id": "OlEmD0Ld--fG",
        "outputId": "e5b45b55-fc5a-49cb-d5ad-04f098833976"
      },
      "execution_count": null,
      "outputs": [
        {
          "output_type": "display_data",
          "data": {
            "text/plain": [
              "<Figure size 1200x600 with 1 Axes>"
            ],
            "image/png": "[encoded data removed]"
          },
          "metadata": {}
        }
      ]
    },
    {
      "cell_type": "markdown",
      "source": [
        "#New dataset"
      ],
      "metadata": {
        "id": "3Nugvg2e_FHI"
      }
    },
    {
      "cell_type": "code",
      "source": [
        "# Define a new Dataset class to apply transforms to validation subset\n",
        "class SubsetWithTransform(Dataset):\n",
        "    def __init__(self, subset, transform):\n",
        "        self.subset = subset\n",
        "        self.transform = transform\n",
        "\n",
        "    def __len__(self):\n",
        "        return len(self.subset)\n",
        "\n",
        "    def __getitem__(self, idx):\n",
        "        image, label = self.subset[idx]\n",
        "        image = self.transform(image)\n",
        "        return image, label\n",
        "\n",
        "# Apply basic_transform to validation dataset\n",
        "balanced_val_dataset = SubsetWithTransform(val_subset, basic_transform)"
      ],
      "metadata": {
        "id": "u5V4N_C0_HKr"
      },
      "execution_count": null,
      "outputs": []
    },
    {
      "cell_type": "code",
      "source": [
        "# Define DataLoaders\n",
        "batch_size = 32\n",
        "num_workers = 4\n",
        "\n",
        "train_loader = DataLoader(balanced_train_dataset, batch_size=batch_size, shuffle=True, num_workers=num_workers)\n",
        "val_loader = DataLoader(balanced_val_dataset, batch_size=batch_size, shuffle=False, num_workers=num_workers)\n"
      ],
      "metadata": {
        "colab": {
          "base_uri": "https://localhost:8080/"
        },
        "id": "1Uf6KVfw_KQL",
        "outputId": "539c6df2-c5b4-4fdd-91de-af814ae1dac6"
      },
      "execution_count": null,
      "outputs": [
        {
          "output_type": "stream",
          "name": "stderr",
          "text": [
            "/usr/local/lib/python3.12/dist-packages/torch/utils/data/dataloader.py:627: UserWarning: This DataLoader will create 4 worker processes in total. Our suggested max number of worker in current system is 2, which is smaller than what this DataLoader is going to create. Please be aware that excessive worker creation might get DataLoader running slow or even freeze, lower the worker number to avoid potential slowness/freeze if necessary.\n",
            "  warnings.warn(\n"
          ]
        }
      ]
    },
    {
      "cell_type": "markdown",
      "source": [
        "Summary\n",
        "\n",
        "SubsetWithTransform is used to apply transforms to a subset, here the validation data.\n",
        "\n",
        "balanced_val_dataset applies basic preprocessing to validation images.\n",
        "\n",
        "DataLoaders wrap both datasets:\n",
        "\n",
        "Training loader → augmented, shuffled batches.\n",
        "\n",
        "Validation loader → preprocessed, ordered batches."
      ],
      "metadata": {
        "id": "OcWEP1_6_WZn"
      }
    },
    {
      "cell_type": "markdown",
      "source": [
        "#Training Vision transformer base model"
      ],
      "metadata": {
        "id": "bevz7EPK_aGk"
      }
    },
    {
      "cell_type": "code",
      "source": [
        "# Number of classes\n",
        "num_classes = 5\n",
        "\n",
        "# Initialize the pre-trained ViT model\n",
        "# You can choose different ViT variants like 'vit_base_patch16_224', 'vit_large_patch16_224', etc.\n",
        "model = timm.create_model('vit_base_patch16_224', pretrained=True)\n",
        "\n",
        "# Modify the classification head to match the number of classes\n",
        "model.head = nn.Linear(model.head.in_features, num_classes)\n",
        "\n",
        "# Move the model to the appropriate device\n",
        "model = model.to(device)\n"
      ],
      "metadata": {
        "id": "nMPK0gQQ_eof",
        "colab": {
          "base_uri": "https://localhost:8080/",
          "height": 173,
          "referenced_widgets": [
            "b0e14bf3935f472b8c3702c2ec7ec3cd",
            "adc691487e8d4507ac5766870cc3599a",
            "344ef9895cba495c9343899a96e3d63b",
            "aea92c5664704c1dae438f8a981b86e0",
            "c4cd79bfc8014560bad18052982386fe",
            "b15c3213157d493fbbd36426af6e8524",
            "133f93d9a333450fb41f95da59c8b48d",
            "492f7d1f9d2845ae8e3d4b99b90193e7",
            "4575cb431af24da9b59eaac19a05ccbf",
            "ef8fb3204dcb420397f78957fed56db4",
            "2f210ea03a624c9ebb586d2fdc19e3d4"
          ]
        },
        "outputId": "dd146b65-eed6-4971-b510-ad1575a9f60d"
      },
      "execution_count": null,
      "outputs": [
        {
          "output_type": "stream",
          "name": "stderr",
          "text": [
            "/usr/local/lib/python3.12/dist-packages/huggingface_hub/utils/_auth.py:94: UserWarning: \n",
            "The secret `HF_TOKEN` does not exist in your Colab secrets.\n",
            "To authenticate with the Hugging Face Hub, create a token in your settings tab (https://huggingface.co/settings/tokens), set it as secret in your Google Colab and restart your session.\n",
            "You will be able to reuse this secret in all of your notebooks.\n",
            "Please note that authentication is recommended but still optional to access public models or datasets.\n",
            "  warnings.warn(\n"
          ]
        },
        {
          "output_type": "display_data",
          "data": {
            "text/plain": [
              "model.safetensors:   0%|          | 0.00/346M [00:00<?, ?B/s]"
            ],
            "application/vnd.jupyter.widget-view+json": {
              "version_major": 2,
              "version_minor": 0,
              "model_id": "b0e14bf3935f472b8c3702c2ec7ec3cd"
            }
          },
          "metadata": {}
        }
      ]
    },
    {
      "cell_type": "code",
      "source": [
        "# Define the loss function\n",
        "criterion = nn.CrossEntropyLoss()\n",
        "\n",
        "# Define the optimizer with weight decay for regularization\n",
        "optimizer = optim.Adam(model.parameters(), lr=3e-5, weight_decay=1e-5)\n"
      ],
      "metadata": {
        "id": "BDoFOUuXmK5I"
      },
      "execution_count": null,
      "outputs": []
    },
    {
      "cell_type": "code",
      "source": [
        "# Define a learning rate scheduler\n",
        "scheduler = optim.lr_scheduler.StepLR(optimizer, step_size=7, gamma=0.1)\n"
      ],
      "metadata": {
        "id": "HA_ot2humPKv"
      },
      "execution_count": null,
      "outputs": []
    },
    {
      "cell_type": "code",
      "source": [
        "def train_model(model, train_loader, val_loader, criterion, optimizer, scheduler, num_epochs=20):\n",
        "    best_val_accuracy = 0.0\n",
        "    best_model_path = 'best_vit_model.pth'\n",
        "\n",
        "    for epoch in range(num_epochs):\n",
        "        # Training Phase\n",
        "        model.train()\n",
        "        running_loss = 0.0\n",
        "        start_time = time.time()\n",
        "\n",
        "        for inputs, labels in train_loader:\n",
        "            inputs, labels = inputs.to(device), labels.to(device)\n",
        "\n",
        "            optimizer.zero_grad()\n",
        "            outputs = model(inputs)\n",
        "            loss = criterion(outputs, labels)\n",
        "            loss.backward()\n",
        "            optimizer.step()\n",
        "\n",
        "            running_loss += loss.item() * inputs.size(0)\n",
        "\n",
        "        epoch_loss = running_loss / len(train_loader.dataset)\n",
        "\n",
        "        # Validation Phase\n",
        "        model.eval()\n",
        "        val_loss = 0.0\n",
        "        correct = 0\n",
        "        total = 0\n",
        "\n",
        "        with torch.no_grad():\n",
        "            for inputs, labels in val_loader:\n",
        "                inputs, labels = inputs.to(device), labels.to(device)\n",
        "                outputs = model(inputs)\n",
        "                loss = criterion(outputs, labels)\n",
        "                val_loss += loss.item() * inputs.size(0)\n",
        "\n",
        "                _, predicted = torch.max(outputs, 1)\n",
        "                total += labels.size(0)\n",
        "                correct += (predicted == labels).sum().item()\n",
        "\n",
        "        val_loss = val_loss / len(val_loader.dataset)\n",
        "        val_accuracy = 100 * correct / total\n",
        "\n",
        "        epoch_time = time.time() - start_time\n",
        "\n",
        "        print(f\"Epoch [{epoch+1}/{num_epochs}], \"\n",
        "              f\"Train Loss: {epoch_loss:.4f}, \"\n",
        "              f\"Val Loss: {val_loss:.4f}, \"\n",
        "              f\"Val Accuracy: {val_accuracy:.2f}%, \"\n",
        "              f\"Time: {epoch_time:.2f}s\")\n",
        "\n",
        "        # Step the scheduler\n",
        "        scheduler.step()\n",
        "\n",
        "        # Save the model if it has the best accuracy so far\n",
        "        if val_accuracy > best_val_accuracy:\n",
        "            best_val_accuracy = val_accuracy\n",
        "            torch.save(model.state_dict(), best_model_path)\n",
        "            print(f\"Best model saved with Val Accuracy: {best_val_accuracy:.2f}%\")\n",
        "\n",
        "    print(f\"Training complete. Best Val Accuracy: {best_val_accuracy:.2f}%\")\n",
        "    print(f\"Best model saved as '{best_model_path}'.\")\n"
      ],
      "metadata": {
        "id": "7m4Op_samRc5"
      },
      "execution_count": null,
      "outputs": []
    },
    {
      "cell_type": "markdown",
      "source": [
        "##VIT BASE"
      ],
      "metadata": {
        "id": "gplgxCGxmXoY"
      }
    },
    {
      "cell_type": "code",
      "source": [
        "import torch\n",
        "import torch.nn as nn\n",
        "import torch.optim as optim\n",
        "from torch.utils.data import DataLoader, Dataset, Subset\n",
        "import torchvision.transforms as transforms\n",
        "from torchvision.datasets import ImageFolder\n",
        "import timm\n",
        "import time\n",
        "import numpy as np\n",
        "from sklearn.model_selection import StratifiedShuffleSplit\n",
        "from sklearn.utils import class_weight\n",
        "import os\n",
        "from PIL import Image\n",
        "import random\n",
        "import csv\n",
        "from torch.utils.tensorboard import SummaryWriter\n",
        "from google.colab import drive\n",
        "from pathlib import Path\n",
        "drive.mount('/content/drive')\n",
        "\n",
        "# ----------------------------\n",
        "# 1. Device Configuration\n",
        "# ----------------------------\n",
        "\n",
        "device = torch.device(\"cuda\" if torch.cuda.is_available() else \"cpu\")\n",
        "print(f\"Using device: {device}\")\n",
        "\n",
        "# ----------------------------\n",
        "# 2. Data Augmentation and Normalization\n",
        "# ----------------------------\n",
        "\n",
        "# Basic transformations for all images\n",
        "basic_transform = transforms.Compose([\n",
        "    transforms.Resize(256),\n",
        "    transforms.CenterCrop(224),\n",
        "    transforms.ToTensor(),\n",
        "    transforms.Normalize(mean=[0.485, 0.456, 0.406],  # ImageNet statistics\n",
        "                         std=[0.229, 0.224, 0.225]),\n",
        "])\n",
        "\n",
        "# Augmentation transformations to create additional samples\n",
        "augment_transform = transforms.Compose([\n",
        "    transforms.RandomHorizontalFlip(),\n",
        "    transforms.RandomRotation(20),\n",
        "    transforms.ColorJitter(brightness=0.2, contrast=0.2, saturation=0.2, hue=0.2),\n",
        "    transforms.RandomAffine(degrees=0, shear=10, scale=(0.8, 1.2)),\n",
        "])\n",
        "\n",
        "# ----------------------------\n",
        "# 3. Load and Split the Dataset\n",
        "# ----------------------------\n",
        "\n",
        "# Paths\n",
        "# ----------------------------\n",
        "base_dir = Path(\"/content/drive/MyDrive/Project2/Project 1 Data\")\n",
        "train_data_path = os.path.join(base_dir, 'Train_Data')\n",
        "\n",
        "\n",
        "# Verify that the training data path exists\n",
        "if not os.path.isdir(train_data_path):\n",
        "    raise FileNotFoundError(f\"Training data directory not found at {train_data_path}\")\n",
        "\n",
        "# Load the full training dataset without any transformations initially\n",
        "full_train_dataset = ImageFolder(root=train_data_path, transform=None)\n",
        "\n",
        "# Extract labels for stratified splitting\n",
        "labels = [label for _, label in full_train_dataset.samples]\n",
        "\n",
        "# Define the split: 80% training and 20% validation\n",
        "split_ratio = 0.2\n",
        "split = StratifiedShuffleSplit(n_splits=1, test_size=split_ratio, random_state=42)\n",
        "train_idx, val_idx = next(split.split(np.zeros(len(labels)), labels))\n",
        "\n",
        "# Create training and validation subsets\n",
        "train_subset = Subset(full_train_dataset, train_idx)\n",
        "val_subset = Subset(full_train_dataset, val_idx)\n",
        "\n",
        "# ----------------------------\n",
        "# 4. Identify and Balance the Dataset\n",
        "# ----------------------------\n",
        "\n",
        "# Function to compute class counts\n",
        "def get_class_counts(dataset):\n",
        "    class_counts = {}\n",
        "    for _, label in dataset:\n",
        "        if label in class_counts:\n",
        "            class_counts[label] += 1\n",
        "        else:\n",
        "            class_counts[label] = 1\n",
        "    return class_counts\n",
        "\n",
        "# Get class counts for the training subset\n",
        "train_class_counts = get_class_counts(train_subset)\n",
        "print(\"Class Counts in Training Set:\", train_class_counts)\n",
        "\n",
        "# Determine the maximum class count\n",
        "max_count = max(train_class_counts.values())\n",
        "print(\"Maximum class count:\", max_count)\n",
        "\n",
        "# Determine the number of samples to generate for each class\n",
        "augmentation_counts = {cls: max_count - count for cls, count in train_class_counts.items()}\n",
        "print(\"Number of Augmented Samples Needed per Class:\", augmentation_counts)\n",
        "\n",
        "# Custom BalancedDataset\n",
        "class BalancedDataset(Dataset):\n",
        "    def __init__(self, original_dataset, augmentation_counts, augment_transform, basic_transform):\n",
        "        \"\"\"\n",
        "        original_dataset: Subset of ImageFolder\n",
        "        augmentation_counts: dict mapping class index to number of samples to augment\n",
        "        augment_transform: Transformations to apply for augmentation\n",
        "        basic_transform: Basic transformations to apply to all images\n",
        "        \"\"\"\n",
        "        self.original_dataset = original_dataset\n",
        "        self.augmentation_counts = augmentation_counts\n",
        "        self.augment_transform = augment_transform\n",
        "        self.basic_transform = basic_transform\n",
        "\n",
        "        # Organize indices by class\n",
        "        self.class_to_indices = {}\n",
        "        for idx in range(len(original_dataset)):\n",
        "            _, label = original_dataset[idx]\n",
        "            if label not in self.class_to_indices:\n",
        "                self.class_to_indices[label] = []\n",
        "            self.class_to_indices[label].append(idx)\n",
        "\n",
        "        # Prepare lists of original and augmented samples\n",
        "        self.samples = []\n",
        "        self.augmented_samples = []\n",
        "        for label, count in augmentation_counts.items():\n",
        "            original_indices = self.class_to_indices[label]\n",
        "            self.samples.extend(original_indices)  # Original samples\n",
        "\n",
        "            # Generate augmented samples\n",
        "            for _ in range(count):\n",
        "                original_idx = random.choice(original_indices)\n",
        "                self.augmented_samples.append(original_idx)  # Placeholder for augmented samples\n",
        "\n",
        "    def __len__(self):\n",
        "        return len(self.samples) + len(self.augmented_samples)\n",
        "\n",
        "    def __getitem__(self, idx):\n",
        "        if idx < len(self.samples):\n",
        "            original_idx = self.samples[idx]\n",
        "            image, label = self.original_dataset[original_idx]\n",
        "            image = self.basic_transform(image)\n",
        "        else:\n",
        "            aug_idx = self.augmented_samples[idx - len(self.samples)]\n",
        "            image, label = self.original_dataset[aug_idx]\n",
        "            image = self.augment_transform(image)\n",
        "            image = self.basic_transform(image)\n",
        "\n",
        "        # Debugging: Ensure image is a tensor\n",
        "        if not isinstance(image, torch.Tensor):\n",
        "            raise TypeError(f\"Transformed image is not a tensor. Type: {type(image)} at index {idx}\")\n",
        "\n",
        "        return image, label\n",
        "\n",
        "# Initialize the balanced dataset\n",
        "balanced_train_dataset = BalancedDataset(\n",
        "    original_dataset=train_subset,\n",
        "    augmentation_counts=augmentation_counts,\n",
        "    augment_transform=augment_transform,\n",
        "    basic_transform=basic_transform\n",
        ")\n",
        "\n",
        "# Verify the new class counts\n",
        "def verify_balanced(dataset, num_classes):\n",
        "    class_counts = {cls:0 for cls in range(num_classes)}\n",
        "    for _, label in dataset:\n",
        "        class_counts[label] += 1\n",
        "    return class_counts\n",
        "\n",
        "balanced_train_class_counts = verify_balanced(balanced_train_dataset, len(full_train_dataset.classes))\n",
        "print(\"Class Counts in Balanced Training Set:\", balanced_train_class_counts)\n",
        "\n",
        "# ----------------------------\n",
        "# 5. Prepare the Validation Dataset\n",
        "# ----------------------------\n",
        "\n",
        "# Define a new Dataset class to apply transforms to validation subset\n",
        "class SubsetWithTransform(Dataset):\n",
        "    def __init__(self, subset, transform):\n",
        "        self.subset = subset\n",
        "        self.transform = transform\n",
        "\n",
        "    def __len__(self):\n",
        "        return len(self.subset)\n",
        "\n",
        "    def __getitem__(self, idx):\n",
        "        image, label = self.subset[idx]\n",
        "        image = self.transform(image)\n",
        "        return image, label\n",
        "\n",
        "# Apply basic_transform to validation dataset\n",
        "balanced_val_dataset = SubsetWithTransform(val_subset, basic_transform)\n",
        "\n",
        "# ----------------------------\n",
        "# 6. Create DataLoaders\n",
        "# ----------------------------\n",
        "\n",
        "# Define DataLoaders\n",
        "batch_size = 32\n",
        "num_workers = 4\n",
        "\n",
        "train_loader = DataLoader(balanced_train_dataset, batch_size=batch_size, shuffle=True, num_workers=num_workers)\n",
        "val_loader = DataLoader(balanced_val_dataset, batch_size=batch_size, shuffle=False, num_workers=num_workers)\n",
        "\n",
        "# ----------------------------\n",
        "# 7. Model Setup with Transfer Learning (ViT)\n",
        "# ----------------------------\n",
        "\n",
        "# Number of classes\n",
        "num_classes = 5\n",
        "\n",
        "# Initialize the pre-trained ViT model\n",
        "# Options: 'vit_base_patch16_224', 'vit_large_patch16_224', etc.\n",
        "model = timm.create_model('vit_base_patch16_224', pretrained=True)\n",
        "\n",
        "# Replace the classification head\n",
        "model.head = nn.Linear(model.head.in_features, num_classes)\n",
        "\n",
        "# Move the model to the appropriate device\n",
        "model = model.to(device)\n",
        "\n",
        "# ----------------------------\n",
        "# 8. Loss Function and Optimizer\n",
        "# ----------------------------\n",
        "\n",
        "# Define the loss function\n",
        "criterion = nn.CrossEntropyLoss()\n",
        "\n",
        "# Define the optimizer with weight decay for regularization\n",
        "optimizer = optim.Adam(model.parameters(), lr=3e-5, weight_decay=1e-5)\n",
        "\n",
        "# Define a learning rate scheduler\n",
        "scheduler = optim.lr_scheduler.StepLR(optimizer, step_size=7, gamma=0.1)\n",
        "\n",
        "# ----------------------------\n",
        "# 9. Training and Validation Functions\n",
        "# ----------------------------\n",
        "\n",
        "def train_model(model, train_loader, val_loader, criterion, optimizer, scheduler, num_epochs=20):\n",
        "    best_val_accuracy = 0.0\n",
        "    best_model_path = 'best_vit_model.pth'\n",
        "\n",
        "    for epoch in range(num_epochs):\n",
        "        # Training Phase\n",
        "        model.train()\n",
        "        running_loss = 0.0\n",
        "        start_time = time.time()\n",
        "\n",
        "        for inputs, labels in train_loader:\n",
        "            inputs, labels = inputs.to(device), labels.to(device)\n",
        "\n",
        "            optimizer.zero_grad()\n",
        "            outputs = model(inputs)\n",
        "            loss = criterion(outputs, labels)\n",
        "            loss.backward()\n",
        "            optimizer.step()\n",
        "\n",
        "            running_loss += loss.item() * inputs.size(0)\n",
        "\n",
        "        epoch_loss = running_loss / len(train_loader.dataset)\n",
        "\n",
        "        # Validation Phase\n",
        "        model.eval()\n",
        "        val_loss = 0.0\n",
        "        correct = 0\n",
        "        total = 0\n",
        "\n",
        "        with torch.no_grad():\n",
        "            for inputs, labels in val_loader:\n",
        "                inputs, labels = inputs.to(device), labels.to(device)\n",
        "                outputs = model(inputs)\n",
        "                loss = criterion(outputs, labels)\n",
        "                val_loss += loss.item() * inputs.size(0)\n",
        "\n",
        "                _, predicted = torch.max(outputs, 1)\n",
        "                total += labels.size(0)\n",
        "                correct += (predicted == labels).sum().item()\n",
        "\n",
        "        val_loss = val_loss / len(val_loader.dataset)\n",
        "        val_accuracy = 100 * correct / total\n",
        "\n",
        "        epoch_time = time.time() - start_time\n",
        "\n",
        "        print(f\"Epoch [{epoch+1}/{num_epochs}], \"\n",
        "              f\"Train Loss: {epoch_loss:.4f}, \"\n",
        "              f\"Val Loss: {val_loss:.4f}, \"\n",
        "              f\"Val Accuracy: {val_accuracy:.2f}%, \"\n",
        "              f\"Time: {epoch_time:.2f}s\")\n",
        "\n",
        "        # Step the scheduler\n",
        "        scheduler.step()\n",
        "\n",
        "        # Save the model if it has the best accuracy so far\n",
        "        if val_accuracy > best_val_accuracy:\n",
        "            best_val_accuracy = val_accuracy\n",
        "            torch.save(model.state_dict(), best_model_path)\n",
        "            print(f\"Best model saved with Val Accuracy: {best_val_accuracy:.2f}%\")\n",
        "\n",
        "    print(f\"Training complete. Best Val Accuracy: {best_val_accuracy:.2f}%\")\n",
        "    print(f\"Best model saved as '{best_model_path}'.\")\n"
      ],
      "metadata": {
        "colab": {
          "base_uri": "https://localhost:8080/"
        },
        "id": "8zznMQXqmZta",
        "outputId": "b2cfe292-32f1-438a-c7f4-11855e65f119"
      },
      "execution_count": null,
      "outputs": [
        {
          "output_type": "stream",
          "name": "stdout",
          "text": [
            "Drive already mounted at /content/drive; to attempt to forcibly remount, call drive.mount(\"/content/drive\", force_remount=True).\n",
            "Using device: cuda\n",
            "Class Counts in Training Set: {4: 168, 3: 731, 1: 289, 0: 239, 2: 585}\n",
            "Maximum class count: 731\n",
            "Number of Augmented Samples Needed per Class: {4: 563, 3: 0, 1: 442, 0: 492, 2: 146}\n",
            "Class Counts in Balanced Training Set: {0: 731, 1: 731, 2: 731, 3: 731, 4: 731}\n"
          ]
        },
        {
          "output_type": "stream",
          "name": "stderr",
          "text": [
            "/usr/local/lib/python3.12/dist-packages/torch/utils/data/dataloader.py:627: UserWarning: This DataLoader will create 4 worker processes in total. Our suggested max number of worker in current system is 2, which is smaller than what this DataLoader is going to create. Please be aware that excessive worker creation might get DataLoader running slow or even freeze, lower the worker number to avoid potential slowness/freeze if necessary.\n",
            "  warnings.warn(\n"
          ]
        }
      ]
    },
    {
      "cell_type": "code",
      "source": [
        "num_epochs = 20\n",
        "train_model(model, train_loader, val_loader, criterion, optimizer, scheduler, num_epochs)\n"
      ],
      "metadata": {
        "colab": {
          "base_uri": "https://localhost:8080/"
        },
        "id": "yqEbN5q1nWdS",
        "outputId": "5552da8a-6ed4-48b1-8614-717531be819c"
      },
      "execution_count": null,
      "outputs": [
        {
          "output_type": "stream",
          "name": "stdout",
          "text": [
            "Epoch [1/20], Train Loss: 1.0841, Val Loss: 0.9722, Val Accuracy: 64.29%, Time: 118.09s\n",
            "Best model saved with Val Accuracy: 64.29%\n",
            "Epoch [2/20], Train Loss: 0.5123, Val Loss: 1.1660, Val Accuracy: 65.28%, Time: 124.80s\n",
            "Best model saved with Val Accuracy: 65.28%\n",
            "Epoch [3/20], Train Loss: 0.1596, Val Loss: 1.6031, Val Accuracy: 61.11%, Time: 127.44s\n",
            "Epoch [4/20], Train Loss: 0.1044, Val Loss: 1.6959, Val Accuracy: 60.52%, Time: 127.36s\n",
            "Epoch [5/20], Train Loss: 0.0831, Val Loss: 1.6372, Val Accuracy: 64.09%, Time: 126.44s\n",
            "Epoch [6/20], Train Loss: 0.0422, Val Loss: 2.0321, Val Accuracy: 61.31%, Time: 125.22s\n",
            "Epoch [7/20], Train Loss: 0.0495, Val Loss: 1.9703, Val Accuracy: 63.29%, Time: 125.03s\n",
            "Epoch [8/20], Train Loss: 0.0134, Val Loss: 1.7059, Val Accuracy: 64.88%, Time: 125.49s\n",
            "Epoch [9/20], Train Loss: 0.0066, Val Loss: 1.6638, Val Accuracy: 66.47%, Time: 125.53s\n",
            "Best model saved with Val Accuracy: 66.47%\n",
            "Epoch [10/20], Train Loss: 0.0030, Val Loss: 1.6780, Val Accuracy: 66.27%, Time: 124.54s\n",
            "Epoch [11/20], Train Loss: 0.0033, Val Loss: 1.6854, Val Accuracy: 65.67%, Time: 125.49s\n",
            "Epoch [12/20], Train Loss: 0.0018, Val Loss: 1.6903, Val Accuracy: 66.07%, Time: 126.79s\n",
            "Epoch [13/20], Train Loss: 0.0032, Val Loss: 1.7008, Val Accuracy: 66.07%, Time: 126.59s\n",
            "Epoch [14/20], Train Loss: 0.0030, Val Loss: 1.7126, Val Accuracy: 64.68%, Time: 126.60s\n",
            "Epoch [15/20], Train Loss: 0.0016, Val Loss: 1.7167, Val Accuracy: 64.68%, Time: 127.11s\n",
            "Epoch [16/20], Train Loss: 0.0029, Val Loss: 1.6977, Val Accuracy: 65.08%, Time: 127.29s\n",
            "Epoch [17/20], Train Loss: 0.0012, Val Loss: 1.6977, Val Accuracy: 65.08%, Time: 127.51s\n",
            "Epoch [18/20], Train Loss: 0.0014, Val Loss: 1.6939, Val Accuracy: 65.08%, Time: 126.78s\n",
            "Epoch [19/20], Train Loss: 0.0015, Val Loss: 1.6908, Val Accuracy: 64.88%, Time: 126.98s\n",
            "Epoch [20/20], Train Loss: 0.0019, Val Loss: 1.6989, Val Accuracy: 64.88%, Time: 126.43s\n",
            "Training complete. Best Val Accuracy: 66.47%\n",
            "Best model saved as 'best_vit_model.pth'.\n"
          ]
        }
      ]
    },
    {
      "cell_type": "code",
      "source": [
        "\n",
        "# Data\n",
        "epochs = list(range(1, 21))\n",
        "train_loss = [\n",
        "    1.0841, 0.5123, 0.1596, 0.1044, 0.0831,\n",
        "    0.0422, 0.0495, 0.0134, 0.0066, 0.0030,\n",
        "    0.0033, 0.0018, 0.0032, 0.0030, 0.0016,\n",
        "    0.0029, 0.0012, 0.0014, 0.0015, 0.0019\n",
        "]\n",
        "\n",
        "val_loss = [\n",
        "    0.9722, 1.1660, 1.6031, 1.6959, 1.6372,\n",
        "    2.0321, 1.9703, 1.7059, 1.6638, 1.6780,\n",
        "    1.6854, 1.6903, 1.7008, 1.7126, 1.7167,\n",
        "    1.6977, 1.6977, 1.6939, 1.6908, 1.6989\n",
        "]\n",
        "\n",
        "val_accuracy = [\n",
        "    64.29, 65.28, 61.11, 60.52, 64.09,\n",
        "    61.31, 63.29, 64.88, 66.47, 66.27,\n",
        "    65.67, 66.07, 66.07, 64.68, 64.68,\n",
        "    65.08, 65.08, 65.08, 64.88, 64.88\n",
        "]\n",
        "\n",
        "\n",
        "# Plot the train and val loss\n",
        "plt.plot(epochs, train_loss, label='Train Loss')\n",
        "plt.plot(epochs, val_loss, label='Val Loss')\n",
        "plt.xlabel('Epochs')\n",
        "plt.ylabel('Loss')\n",
        "plt.legend()\n",
        "plt.title('Training and Validation Loss for ViT Model')\n",
        "plt.show()\n",
        "\n",
        "# Plot the val accuracy\n",
        "plt.plot(epochs, val_accuracy, label='Val Accuracy', color='green')\n",
        "plt.xlabel('Epochs')\n",
        "plt.ylabel('Accuracy')\n",
        "plt.legend()\n",
        "plt.title('Validation Accuracy for ViT Model')\n",
        "plt.show()"
      ],
      "metadata": {
        "colab": {
          "base_uri": "https://localhost:8080/",
          "height": 927
        },
        "id": "3RHT44QnnYQp",
        "outputId": "7761606d-840a-4c73-d556-02368e43ae6f"
      },
      "execution_count": null,
      "outputs": [
        {
          "output_type": "display_data",
          "data": {
            "text/plain": [
              "<Figure size 640x480 with 1 Axes>"
            ],
            "image/png": "[encoded data removed]"
          },
          "metadata": {}
        },
        {
          "output_type": "display_data",
          "data": {
            "text/plain": [
              "<Figure size 640x480 with 1 Axes>"
            ],
            "image/png": "[encoded data removed]"
          },
          "metadata": {}
        }
      ]
    },
    {
      "cell_type": "code",
      "source": [
        "# plot confusion matrix for ViT model\n",
        "import numpy as np\n",
        "import matplotlib.pyplot as plt\n",
        "import seaborn as sns\n",
        "from sklearn.metrics import confusion_matrix\n",
        "\n",
        "# Set the model to evaluation mode\n",
        "model.eval()\n",
        "\n",
        "# Initialize lists to store predictions and labels\n",
        "all_preds = []\n",
        "all_labels = []\n",
        "\n",
        "# Iterate over the data in the val_loader\n",
        "for inputs, labels in val_loader:\n",
        "    inputs, labels = inputs.to(device), labels.to(device)\n",
        "    outputs = model(inputs)\n",
        "    _, preds = torch.max(outputs, 1)\n",
        "    all_preds.extend(preds.cpu().numpy())\n",
        "    all_labels.extend(labels.cpu().numpy())\n",
        "\n",
        "# Get the confusion matrix\n",
        "cm = confusion_matrix(all_labels, all_preds)\n",
        "\n",
        "# Plot the confusion matrix\n",
        "plt.figure(figsize=(8, 6))\n",
        "sns.heatmap(cm, annot=True, fmt='d', cmap='Blues', xticklabels=full_train_dataset.classes, yticklabels=full_train_dataset.classes)\n",
        "plt.xlabel('Predicted labels')\n",
        "plt.ylabel('True labels')\n",
        "plt.title('Confusion Matrix for ViT Model')\n",
        "plt.show()"
      ],
      "metadata": {
        "colab": {
          "base_uri": "https://localhost:8080/",
          "height": 564
        },
        "id": "5zv4k73HndMT",
        "outputId": "6f449a0c-0d1f-4dc9-c728-dd10521e261c"
      },
      "execution_count": null,
      "outputs": [
        {
          "output_type": "display_data",
          "data": {
            "text/plain": [
              "<Figure size 800x600 with 2 Axes>"
            ],
            "image/png": "[encoded data removed]"
          },
          "metadata": {}
        }
      ]
    },
    {
      "cell_type": "code",
      "source": [
        "# Save the final model after all epochs\n",
        "final_model_path = 'vit_model_final.pth'\n",
        "torch.save(model.state_dict(), final_model_path)\n",
        "print(f\"Final model saved as '{final_model_path}'.\")\n"
      ],
      "metadata": {
        "colab": {
          "base_uri": "https://localhost:8080/"
        },
        "id": "omdLzz97nd5W",
        "outputId": "bfe6e17c-de0f-477a-9ef1-aecec0f6be1e"
      },
      "execution_count": null,
      "outputs": [
        {
          "output_type": "stream",
          "name": "stdout",
          "text": [
            "Final model saved as 'vit_model_final.pth'.\n"
          ]
        }
      ]
    },
    {
      "cell_type": "code",
      "source": [
        "# ----------------------------\n",
        "# 12. Inference on Unlabeled Test Data\n",
        "# ----------------------------\n",
        "\n",
        "class UnlabeledDataset(Dataset):\n",
        "    def __init__(self, root, transform=None):\n",
        "        self.root = root\n",
        "        self.transform = transform\n",
        "        # List all image files in the directory\n",
        "        self.image_paths = [os.path.join(root, img) for img in os.listdir(root)\n",
        "                            if img.lower().endswith(('.png', '.jpg', '.jpeg', '.bmp', '.gif'))]\n",
        "\n",
        "    def __len__(self):\n",
        "        return len(self.image_paths)\n",
        "\n",
        "    def __getitem__(self, idx):\n",
        "        img_path = self.image_paths[idx]\n",
        "        image = Image.open(img_path).convert('RGB')  # Use 'L' for grayscale if needed\n",
        "        if self.transform:\n",
        "            image = self.transform(image)\n",
        "        return image, img_path  # Return image and its path or any identifier\n",
        "\n",
        "# Define transforms for test data (same as basic_transform)\n",
        "test_transform = basic_transform\n",
        "\n",
        "# Path to your test data\n",
        "test_data_path = os.path.join(base_dir, 'Test_Data')\n",
        "\n",
        "# Verify that the test data path exists\n",
        "if not os.path.isdir(test_data_path):\n",
        "    raise FileNotFoundError(f\"Test data directory not found at {test_data_path}\")\n",
        "\n",
        "# Initialize the test dataset and loader\n",
        "test_dataset = UnlabeledDataset(root=test_data_path, transform=test_transform)\n",
        "test_loader = DataLoader(test_dataset, batch_size=32, shuffle=False, num_workers=4)\n",
        "\n",
        "# Function to perform inference on test data\n",
        "def predict(model, test_loader, device):\n",
        "    model.eval()\n",
        "    predictions = []\n",
        "\n",
        "    with torch.no_grad():\n",
        "        for inputs, img_paths in test_loader:\n",
        "            inputs = inputs.to(device)\n",
        "            outputs = model(inputs)\n",
        "            _, predicted = torch.max(outputs, 1)\n",
        "            predictions.extend(zip(img_paths, predicted.cpu().numpy()))\n",
        "\n",
        "    return predictions\n",
        "\n",
        "# Example of how to use the prediction function\n",
        "# Load the best model\n",
        "model.load_state_dict(torch.load('best_vit_model.pth'))\n",
        "model.to(device)\n",
        "model.eval()\n",
        "\n",
        "# Perform predictions\n",
        "test_predictions = predict(model, test_loader, device)\n",
        "\n",
        "# Map predicted indices to class names\n",
        "class_names = full_train_dataset.classes\n",
        "\n",
        "# Save predictions to a CSV file\n",
        "with open('test_predictions.csv', mode='w', newline='') as file:\n",
        "    writer = csv.writer(file)\n",
        "    writer.writerow(['Image Path', 'Predicted Class'])\n",
        "    for img_path, pred in test_predictions:\n",
        "        writer.writerow([img_path, class_names[pred]])\n",
        "\n",
        "print(\"Test predictions saved to 'test_predictions.csv'.\")\n"
      ],
      "metadata": {
        "colab": {
          "base_uri": "https://localhost:8080/"
        },
        "id": "sBNGFdEenheT",
        "outputId": "32ea7d77-0b07-4690-de77-bc76d1deaab8"
      },
      "execution_count": null,
      "outputs": [
        {
          "output_type": "stream",
          "name": "stderr",
          "text": [
            "/usr/local/lib/python3.12/dist-packages/torch/utils/data/dataloader.py:627: UserWarning: This DataLoader will create 4 worker processes in total. Our suggested max number of worker in current system is 2, which is smaller than what this DataLoader is going to create. Please be aware that excessive worker creation might get DataLoader running slow or even freeze, lower the worker number to avoid potential slowness/freeze if necessary.\n",
            "  warnings.warn(\n"
          ]
        },
        {
          "output_type": "stream",
          "name": "stdout",
          "text": [
            "Test predictions saved to 'test_predictions.csv'.\n"
          ]
        }
      ]
    },
    {
      "cell_type": "markdown",
      "source": [
        "VIT Large"
      ],
      "metadata": {
        "id": "Mm6zQZ4gn7ex"
      }
    },
    {
      "cell_type": "code",
      "source": [
        "torch.cuda.empty_cache()\n",
        "!nvidia-smi"
      ],
      "metadata": {
        "colab": {
          "base_uri": "https://localhost:8080/"
        },
        "id": "2PxdaqZLn-3M",
        "outputId": "0bea4f67-8de4-45ff-b446-1d55dead32cb"
      },
      "execution_count": null,
      "outputs": [
        {
          "output_type": "stream",
          "name": "stdout",
          "text": [
            "Fri Aug 29 16:02:15 2025       \n",
            "+-----------------------------------------------------------------------------------------+\n",
            "| NVIDIA-SMI 550.54.15              Driver Version: 550.54.15      CUDA Version: 12.4     |\n",
            "|-----------------------------------------+------------------------+----------------------+\n",
            "| GPU  Name                 Persistence-M | Bus-Id          Disp.A | Volatile Uncorr. ECC |\n",
            "| Fan  Temp   Perf          Pwr:Usage/Cap |           Memory-Usage | GPU-Util  Compute M. |\n",
            "|                                         |                        |               MIG M. |\n",
            "|=========================================+========================+======================|\n",
            "|   0  Tesla T4                       Off |   00000000:00:04.0 Off |                    0 |\n",
            "| N/A   73C    P0             32W /   70W |    7104MiB /  15360MiB |      0%      Default |\n",
            "|                                         |                        |                  N/A |\n",
            "+-----------------------------------------+------------------------+----------------------+\n",
            "                                                                                         \n",
            "+-----------------------------------------------------------------------------------------+\n",
            "| Processes:                                                                              |\n",
            "|  GPU   GI   CI        PID   Type   Process name                              GPU Memory |\n",
            "|        ID   ID                                                               Usage      |\n",
            "|=========================================================================================|\n",
            "+-----------------------------------------------------------------------------------------+\n"
          ]
        }
      ]
    },
    {
      "cell_type": "code",
      "source": [
        "import torch\n",
        "import torch.nn as nn\n",
        "import torch.optim as optim\n",
        "from torch.utils.data import DataLoader, Dataset, Subset\n",
        "import torchvision.transforms as transforms\n",
        "from torchvision.datasets import ImageFolder\n",
        "import timm\n",
        "import time\n",
        "import numpy as np\n",
        "from sklearn.model_selection import StratifiedShuffleSplit\n",
        "import os\n",
        "from PIL import Image\n",
        "import random\n",
        "\n",
        "# ----------------------------\n",
        "# 1. Device Configuration\n",
        "# ----------------------------\n",
        "\n",
        "device = torch.device(\"cuda\" if torch.cuda.is_available() else \"cpu\")\n",
        "print(f\"Using device: {device}\")\n",
        "\n",
        "# ----------------------------\n",
        "# 2. Data Augmentation and Normalization\n",
        "# ----------------------------\n",
        "\n",
        "# Basic transformations for all images\n",
        "basic_transform = transforms.Compose([\n",
        "    transforms.Resize(256),\n",
        "    transforms.CenterCrop(224),\n",
        "    transforms.ToTensor(),\n",
        "    transforms.Normalize(mean=[0.485, 0.456, 0.406],  # ImageNet statistics\n",
        "                         std=[0.229, 0.224, 0.225]),\n",
        "])\n",
        "\n",
        "# Augmentation transformations to create additional samples\n",
        "augment_transform = transforms.Compose([\n",
        "    transforms.RandomHorizontalFlip(),\n",
        "    transforms.RandomRotation(20),\n",
        "    transforms.ColorJitter(brightness=0.2, contrast=0.2, saturation=0.2, hue=0.2),\n",
        "    transforms.RandomAffine(degrees=0, shear=10, scale=(0.8, 1.2)),\n",
        "])\n",
        "\n",
        "# ----------------------------\n",
        "# 3. Load and Split the Dataset\n",
        "# ----------------------------\n",
        "\n",
        "# Path to your training data\n",
        "train_data_path = os.path.join(base_dir, 'Train_Data')\n",
        "\n",
        "# Verify that the training data path exists\n",
        "if not os.path.isdir(train_data_path):\n",
        "    raise FileNotFoundError(f\"Training data directory not found at {train_data_path}\")\n",
        "\n",
        "# Load the full training dataset without any transformations initially\n",
        "full_train_dataset = ImageFolder(root=train_data_path, transform=None)\n",
        "\n",
        "# Extract labels for stratified splitting\n",
        "labels = [label for _, label in full_train_dataset.samples]\n",
        "\n",
        "# Define the split: 90% training and 10% validation\n",
        "split_ratio = 0.1\n",
        "num_classes = len(full_train_dataset.classes)\n",
        "\n",
        "# Function to create balanced validation set\n",
        "def create_balanced_val_set(full_dataset, num_classes, split_ratio):\n",
        "    class_counts = get_class_counts(full_dataset)\n",
        "    val_per_class = max(1, int(split_ratio * len(full_dataset) / num_classes))\n",
        "    val_indices = []\n",
        "\n",
        "    for cls in range(num_classes):\n",
        "        class_indices = [i for i, (_, label) in enumerate(full_dataset.samples) if label == cls]\n",
        "        selected_indices = random.sample(class_indices, min(val_per_class, len(class_indices)))\n",
        "        val_indices.extend(selected_indices)\n",
        "\n",
        "    return val_indices\n",
        "\n",
        "# Get indices for balanced validation set\n",
        "val_indices = create_balanced_val_set(full_train_dataset, num_classes, split_ratio)\n",
        "\n",
        "# Create training and validation subsets\n",
        "train_indices = [i for i in range(len(full_train_dataset)) if i not in val_indices]\n",
        "train_subset = Subset(full_train_dataset, train_indices)\n",
        "val_subset = Subset(full_train_dataset, val_indices)\n",
        "\n",
        "# ----------------------------\n",
        "# 4. Identify and Balance the Dataset\n",
        "# ----------------------------\n",
        "\n",
        "# Function to compute class counts\n",
        "def get_class_counts(dataset):\n",
        "    class_counts = {}\n",
        "    for _, label in dataset:\n",
        "        if label in class_counts:\n",
        "            class_counts[label] += 1\n",
        "        else:\n",
        "            class_counts[label] = 1\n",
        "    return class_counts\n",
        "\n",
        "# Get class counts for the training subset\n",
        "train_class_counts = get_class_counts(train_subset)\n",
        "print(\"Class Counts in Training Set:\", train_class_counts)\n",
        "\n",
        "# Determine the maximum class count\n",
        "max_count = max(train_class_counts.values())\n",
        "print(\"Maximum class count:\", max_count)\n",
        "\n",
        "# Determine the number of samples to generate for each class\n",
        "augmentation_counts = {cls: max_count - count for cls, count in train_class_counts.items()}\n",
        "print(\"Number of Augmented Samples Needed per Class:\", augmentation_counts)\n",
        "\n",
        "# Custom BalancedDataset\n",
        "class BalancedDataset(Dataset):\n",
        "    def __init__(self, original_dataset, augmentation_counts, augment_transform, basic_transform):\n",
        "        self.original_dataset = original_dataset\n",
        "        self.augmentation_counts = augmentation_counts\n",
        "        self.augment_transform = augment_transform\n",
        "        self.basic_transform = basic_transform\n",
        "\n",
        "        self.class_to_indices = {}\n",
        "        for idx in range(len(original_dataset)):\n",
        "            _, label = original_dataset[idx]\n",
        "            if label not in self.class_to_indices:\n",
        "                self.class_to_indices[label] = []\n",
        "            self.class_to_indices[label].append(idx)\n",
        "\n",
        "        self.samples = []\n",
        "        self.augmented_samples = []\n",
        "        for label, count in augmentation_counts.items():\n",
        "            original_indices = self.class_to_indices[label]\n",
        "            self.samples.extend(original_indices)\n",
        "\n",
        "            for _ in range(count):\n",
        "                original_idx = random.choice(original_indices)\n",
        "                self.augmented_samples.append(original_idx)\n",
        "\n",
        "    def __len__(self):\n",
        "        return len(self.samples) + len(self.augmented_samples)\n",
        "\n",
        "    def __getitem__(self, idx):\n",
        "        if idx < len(self.samples):\n",
        "            original_idx = self.samples[idx]\n",
        "            image, label = self.original_dataset[original_idx]\n",
        "            image = self.basic_transform(image)\n",
        "        else:\n",
        "            aug_idx = self.augmented_samples[idx - len(self.samples)]\n",
        "            image, label = self.original_dataset[aug_idx]\n",
        "            image = self.augment_transform(image)\n",
        "            image = self.basic_transform(image)\n",
        "\n",
        "        return image, label\n",
        "\n",
        "# Initialize the balanced dataset\n",
        "balanced_train_dataset = BalancedDataset(\n",
        "    original_dataset=train_subset,\n",
        "    augmentation_counts=augmentation_counts,\n",
        "    augment_transform=augment_transform,\n",
        "    basic_transform=basic_transform\n",
        ")\n",
        "\n",
        "# ----------------------------\n",
        "# 5. Prepare the Validation Dataset\n",
        "# ----------------------------\n",
        "\n",
        "# Define a new Dataset class to apply transforms to validation subset\n",
        "class SubsetWithTransform(Dataset):\n",
        "    def __init__(self, subset, transform):\n",
        "        self.subset = subset\n",
        "        self.transform = transform\n",
        "\n",
        "    def __len__(self):\n",
        "        return len(self.subset)\n",
        "\n",
        "    def __getitem__(self, idx):\n",
        "        image, label = self.subset[idx]\n",
        "        image = self.transform(image)\n",
        "        return image, label\n",
        "\n",
        "# Apply basic_transform to validation dataset\n",
        "balanced_val_dataset = SubsetWithTransform(val_subset, basic_transform)\n",
        "\n",
        "# ----------------------------\n",
        "# 6. Create DataLoaders\n",
        "# ----------------------------\n",
        "\n",
        "# Define DataLoaders\n",
        "batch_size = 32\n",
        "num_workers = 4\n",
        "\n",
        "train_loader = DataLoader(balanced_train_dataset, batch_size=batch_size, shuffle=True, num_workers=num_workers)\n",
        "val_loader = DataLoader(balanced_val_dataset, batch_size=batch_size, shuffle=False, num_workers=num_workers)\n",
        "# ----------------------------\n",
        "# 7. Model Setup with Transfer Learning (ViT)\n",
        "# ----------------------------\n",
        "\n",
        "# Number of classes\n",
        "num_classes = 5\n",
        "\n",
        "# Initialize the pre-trained ViT model\n",
        "#model = timm.create_model('vit_base_patch16_224', pretrained=True)\n",
        "\n",
        "# Replace the classification head and increase dropout\n",
        "model.head = nn.Sequential(\n",
        "    nn.Dropout(p=0.5),  # Increased dropout\n",
        "    nn.Linear(model.head.in_features, num_classes)\n",
        ")\n",
        "\n",
        "# Move the model to the appropriate device\n",
        "model = model.to(device)\n",
        "\n",
        "# ----------------------------\n",
        "# 8. Loss Function and Optimizer\n",
        "# ----------------------------\n",
        "\n",
        "# Define the loss function\n",
        "criterion = nn.CrossEntropyLoss()\n",
        "\n",
        "# Define the optimizer with L2 regularization (weight decay)\n",
        "optimizer = optim.Adam(model.parameters(), lr=3e-5, weight_decay=1e-4)  # Adjust weight_decay for L2 regularization\n",
        "\n",
        "# Define a learning rate scheduler\n",
        "scheduler = optim.lr_scheduler.StepLR(optimizer, step_size=7, gamma=0.1)\n",
        "\n",
        "# ----------------------------\n",
        "# 9. Training and Validation Functions\n",
        "# ----------------------------\n",
        "\n",
        "def train_model(model, train_loader, val_loader, criterion, optimizer, scheduler, num_epochs=20):\n",
        "    best_val_accuracy = 0.0\n",
        "    best_model_path = 'best_vit_model.pth'\n",
        "\n",
        "    for epoch in range(num_epochs):\n",
        "        # Training Phase\n",
        "        model.train()\n",
        "        running_loss = 0.0\n",
        "        start_time = time.time()\n",
        "\n",
        "        for inputs, labels in train_loader:\n",
        "            inputs, labels = inputs.to(device), labels.to(device)\n",
        "\n",
        "            optimizer.zero_grad()\n",
        "            outputs = model(inputs)\n",
        "            loss = criterion(outputs, labels)\n",
        "            loss.backward()\n",
        "            optimizer.step()\n",
        "\n",
        "            running_loss += loss.item() * inputs.size(0)\n",
        "\n",
        "        epoch_loss = running_loss / len(train_loader.dataset)\n",
        "\n",
        "        # Validation Phase\n",
        "        model.eval()\n",
        "        val_loss = 0.0\n",
        "        correct = 0\n",
        "        total = 0\n",
        "\n",
        "        with torch.no_grad():\n",
        "            for inputs, labels in val_loader:\n",
        "                inputs, labels = inputs.to(device), labels.to(device)\n",
        "                outputs = model(inputs)\n",
        "                loss = criterion(outputs, labels)\n",
        "                val_loss += loss.item() * inputs.size(0)\n",
        "\n",
        "                _, predicted = torch.max(outputs, 1)\n",
        "                total += labels.size(0)\n",
        "                correct += (predicted == labels).sum().item()\n",
        "\n",
        "        val_loss = val_loss / len(val_loader.dataset)\n",
        "        val_accuracy = 100 * correct / total\n",
        "\n",
        "        epoch_time = time.time() - start_time\n",
        "\n",
        "        print(f\"Epoch [{epoch+1}/{num_epochs}], \"\n",
        "              f\"Train Loss: {epoch_loss:.4f}, \"\n",
        "              f\"Val Loss: {val_loss:.4f}, \"\n",
        "              f\"Val Accuracy: {val_accuracy:.2f}%, \"\n",
        "              f\"Time: {epoch_time:.2f}s\")\n",
        "\n",
        "        # Step the scheduler\n",
        "        scheduler.step()\n",
        "\n",
        "        # Save the model if it has the best validation accuracy\n",
        "        if val_accuracy > best_val_accuracy:\n",
        "            best_val_accuracy = val_accuracy\n",
        "            torch.save(model.state_dict(), best_model_path)\n",
        "\n",
        "    print(f\"Best Validation Accuracy: {best_val_accuracy:.2f}%\")\n",
        "    return best_model_path\n",
        "\n",
        "# ----------------------------\n",
        "# 10. Run Training\n",
        "# ----------------------------\n",
        "\n",
        "best_model_path = train_model(model, train_loader, val_loader, criterion, optimizer, scheduler, num_epochs=20)\n"
      ],
      "metadata": {
        "colab": {
          "base_uri": "https://localhost:8080/"
        },
        "id": "WFTk8fvDn6Np",
        "outputId": "527a8869-cd3c-4cb7-e13b-7e19ed2b029c"
      },
      "execution_count": null,
      "outputs": [
        {
          "output_type": "stream",
          "name": "stdout",
          "text": [
            "Using device: cuda\n",
            "Class Counts in Training Set: {0: 249, 1: 312, 2: 681, 3: 864, 4: 160}\n",
            "Maximum class count: 864\n",
            "Number of Augmented Samples Needed per Class: {0: 615, 1: 552, 2: 183, 3: 0, 4: 704}\n",
            "Epoch [1/20], Train Loss: 0.6177, Val Loss: 0.5060, Val Accuracy: 84.40%, Time: 146.04s\n",
            "Epoch [2/20], Train Loss: 0.1768, Val Loss: 0.4885, Val Accuracy: 85.60%, Time: 145.71s\n",
            "Epoch [3/20], Train Loss: 0.0998, Val Loss: 0.6192, Val Accuracy: 85.20%, Time: 145.84s\n",
            "Epoch [4/20], Train Loss: 0.0940, Val Loss: 0.6078, Val Accuracy: 85.20%, Time: 144.85s\n",
            "Epoch [5/20], Train Loss: 0.0608, Val Loss: 0.7186, Val Accuracy: 84.00%, Time: 146.03s\n",
            "Epoch [6/20], Train Loss: 0.0514, Val Loss: 0.8629, Val Accuracy: 85.20%, Time: 145.89s\n",
            "Epoch [7/20], Train Loss: 0.0728, Val Loss: 0.9628, Val Accuracy: 80.00%, Time: 145.15s\n",
            "Epoch [8/20], Train Loss: 0.0249, Val Loss: 0.7335, Val Accuracy: 82.80%, Time: 146.05s\n",
            "Epoch [9/20], Train Loss: 0.0116, Val Loss: 0.7666, Val Accuracy: 84.00%, Time: 144.85s\n",
            "Epoch [10/20], Train Loss: 0.0062, Val Loss: 0.7460, Val Accuracy: 83.20%, Time: 145.98s\n",
            "Epoch [11/20], Train Loss: 0.0064, Val Loss: 0.8045, Val Accuracy: 83.20%, Time: 144.79s\n",
            "Epoch [12/20], Train Loss: 0.0044, Val Loss: 0.7532, Val Accuracy: 84.80%, Time: 145.97s\n",
            "Epoch [13/20], Train Loss: 0.0041, Val Loss: 0.8030, Val Accuracy: 84.00%, Time: 145.45s\n",
            "Epoch [14/20], Train Loss: 0.0020, Val Loss: 0.7969, Val Accuracy: 84.80%, Time: 146.55s\n",
            "Epoch [15/20], Train Loss: 0.0019, Val Loss: 0.7903, Val Accuracy: 84.40%, Time: 144.72s\n",
            "Epoch [16/20], Train Loss: 0.0028, Val Loss: 0.7872, Val Accuracy: 85.20%, Time: 146.15s\n",
            "Epoch [17/20], Train Loss: 0.0045, Val Loss: 0.8005, Val Accuracy: 85.20%, Time: 144.97s\n",
            "Epoch [18/20], Train Loss: 0.0015, Val Loss: 0.8021, Val Accuracy: 85.20%, Time: 145.42s\n",
            "Epoch [19/20], Train Loss: 0.0054, Val Loss: 0.8137, Val Accuracy: 83.20%, Time: 145.67s\n",
            "Epoch [20/20], Train Loss: 0.0027, Val Loss: 0.8214, Val Accuracy: 82.80%, Time: 145.05s\n",
            "Best Validation Accuracy: 85.60%\n"
          ]
        }
      ]
    },
    {
      "cell_type": "code",
      "source": [
        "import matplotlib.pyplot as plt\n",
        "\n",
        "# -----------------------------\n",
        "# 1. Define the data\n",
        "# -----------------------------\n",
        "train_loss = [\n",
        "    0.6177, 0.1768, 0.0998, 0.0940, 0.0608, 0.0514, 0.0728, 0.0249, 0.0116, 0.0062,\n",
        "    0.0064, 0.0044, 0.0041, 0.0020, 0.0019, 0.0028, 0.0045, 0.0015, 0.0054, 0.0027\n",
        "]\n",
        "\n",
        "val_loss = [\n",
        "    0.5060, 0.4885, 0.6192, 0.6078, 0.7186, 0.8629, 0.9628, 0.7335, 0.7666, 0.7460,\n",
        "    0.8045, 0.7532, 0.8030, 0.7969, 0.7903, 0.7872, 0.8005, 0.8021, 0.8137, 0.8214\n",
        "]\n",
        "\n",
        "val_accuracy = [\n",
        "    84.40, 85.60, 85.20, 85.20, 84.00, 85.20, 80.00, 82.80, 84.00, 83.20,\n",
        "    83.20, 84.80, 84.00, 84.80, 84.40, 85.20, 85.20, 85.20, 83.20, 82.80\n",
        "]\n",
        "\n",
        "epochs = range(1, 21)\n",
        "\n",
        "# -----------------------------\n",
        "# 2. Plot Train Loss vs Val Loss\n",
        "# -----------------------------\n",
        "plt.figure(figsize=(10,5))\n",
        "plt.plot(epochs, train_loss, label='Train Loss')\n",
        "plt.plot(epochs, val_loss, label='Validation Loss')\n",
        "plt.xlabel('Epochs')\n",
        "plt.ylabel('Loss')\n",
        "plt.title('Training and Validation Loss')\n",
        "plt.legend()\n",
        "plt.grid(True)\n",
        "plt.show()\n",
        "\n",
        "# -----------------------------\n",
        "# 3. Plot Validation Accuracy\n",
        "# -----------------------------\n",
        "plt.figure(figsize=(10,5))\n",
        "plt.plot(epochs, val_accuracy, label='Validation Accuracy', color='green')\n",
        "plt.xlabel('Epochs')\n",
        "plt.ylabel('Accuracy (%)')\n",
        "plt.title('Validation Accuracy')\n",
        "plt.ylim(0, 100)\n",
        "plt.grid(True)\n",
        "plt.show()\n"
      ],
      "metadata": {
        "colab": {
          "base_uri": "https://localhost:8080/",
          "height": 957
        },
        "id": "YKATn_sd13Vr",
        "outputId": "84654dca-bb3c-4141-af81-5589380b0378"
      },
      "execution_count": 4,
      "outputs": [
        {
          "output_type": "display_data",
          "data": {
            "text/plain": [
              "<Figure size 1000x500 with 1 Axes>"
            ],
            "image/png": "[encoded data removed]"
          },
          "metadata": {}
        },
        {
          "output_type": "display_data",
          "data": {
            "text/plain": [
              "<Figure size 1000x500 with 1 Axes>"
            ],
            "image/png": "[encoded data removed]"
          },
          "metadata": {}
        }
      ]
    },
    {
      "cell_type": "code",
      "source": [
        "# ----------------------------\n",
        "# 12. Inference on Unlabeled Test Data\n",
        "# ----------------------------\n",
        "\n",
        "class UnlabeledDataset(Dataset):\n",
        "    def __init__(self, root, transform=None):\n",
        "        self.root = root\n",
        "        self.transform = transform\n",
        "        # List all image files in the directory\n",
        "        self.image_paths = [os.path.join(root, img) for img in os.listdir(root)\n",
        "                            if img.lower().endswith(('.png', '.jpg', '.jpeg', '.bmp', '.gif'))]\n",
        "\n",
        "    def __len__(self):\n",
        "        return len(self.image_paths)\n",
        "\n",
        "    def __getitem__(self, idx):\n",
        "        img_path = self.image_paths[idx]\n",
        "        image = Image.open(img_path).convert('RGB')  # Use 'L' for grayscale if needed\n",
        "        if self.transform:\n",
        "            image = self.transform(image)\n",
        "        return image, img_path  # Return image and its path or any identifier\n",
        "\n",
        "# Define transforms for test data (same as basic_transform)\n",
        "test_transform = basic_transform\n",
        "\n",
        "# Path to your test data\n",
        "test_data_path = os.path.join(base_dir, 'Test_Data')\n",
        "\n",
        "# Verify that the test data path exists\n",
        "if not os.path.isdir(test_data_path):\n",
        "    raise FileNotFoundError(f\"Test data directory not found at {test_data_path}\")\n",
        "\n",
        "# Initialize the test dataset and loader\n",
        "test_dataset = UnlabeledDataset(root=test_data_path, transform=test_transform)\n",
        "test_loader = DataLoader(test_dataset, batch_size=32, shuffle=False, num_workers=4)\n",
        "\n",
        "# Function to perform inference on test data\n",
        "def predict(model, test_loader, device):\n",
        "    model.eval()\n",
        "    predictions = []\n",
        "\n",
        "    with torch.no_grad():\n",
        "        for inputs, img_paths in test_loader:\n",
        "            inputs = inputs.to(device)\n",
        "            outputs = model(inputs)\n",
        "            _, predicted = torch.max(outputs, 1)\n",
        "            predictions.extend(zip(img_paths, predicted.cpu().numpy()))\n",
        "\n",
        "    return predictions\n",
        "\n",
        "# Example of how to use the prediction function\n",
        "# Load the best model\n",
        "model.load_state_dict(torch.load('best_vit_model.pth'))\n",
        "model.to(device)\n",
        "model.eval()\n",
        "\n",
        "# Perform predictions\n",
        "test_predictions = predict(model, test_loader, device)\n",
        "\n",
        "# Map predicted indices to class names\n",
        "class_names = full_train_dataset.classes\n",
        "\n",
        "# Save predictions to a CSV file\n",
        "with open('test_predictions.csv', mode='w', newline='') as file:\n",
        "    writer = csv.writer(file)\n",
        "    writer.writerow(['Image Path', 'Predicted Class'])\n",
        "    for img_path, pred in test_predictions:\n",
        "        writer.writerow([img_path, class_names[pred]])\n",
        "\n",
        "print(\"Test predictions saved to 'test_predictions.csv'.\")\n"
      ],
      "metadata": {
        "colab": {
          "base_uri": "https://localhost:8080/"
        },
        "id": "5mXF2dzloZna",
        "outputId": "93a9f417-d9f3-4750-c6d5-b8bf8ec393b5"
      },
      "execution_count": null,
      "outputs": [
        {
          "output_type": "stream",
          "name": "stdout",
          "text": [
            "Test predictions saved to 'test_predictions.csv'.\n"
          ]
        }
      ]
    },
    {
      "cell_type": "code",
      "source": [
        "\n",
        "# Load the predictions\n",
        "import pandas as pd\n",
        "df = pd.read_csv('test_predictions.csv')\n",
        "\n",
        "# remove the jpg extension from the Image Path column and sort by ID also remove the path\n",
        "df['ID'] = df['Image Path'].str.replace('.jpg', '').str.split('/').str[-1].astype(int)\n",
        "df = df[['ID', 'Predicted Class']]\n",
        "df = df.sort_values('ID')\n",
        "# change the column name to Predictions and map the class names to integers 1-5\n",
        "df.columns = ['ID', 'Predictions']\n",
        "df['Predictions'] = df['Predictions'].map({'A': 1, 'B': 2, 'C': 3, 'D': 4, 'S': 5})\n",
        "\n",
        "\n",
        "# now save the sorted predictions\n",
        "df.to_csv('test_predictions2.csv', index=False)\n",
        "print(\"Predictions sorted and saved to 'test_predictions2.csv'\")"
      ],
      "metadata": {
        "colab": {
          "base_uri": "https://localhost:8080/"
        },
        "id": "z3VKNKAeorPS",
        "outputId": "aa1bd4d8-b308-4635-ff64-d3d9a1cc078d"
      },
      "execution_count": null,
      "outputs": [
        {
          "output_type": "stream",
          "name": "stdout",
          "text": [
            "Predictions sorted and saved to 'test_predictions2.csv'\n"
          ]
        }
      ]
    },
    {
      "cell_type": "code",
      "source": [
        "# plot confusion matrix for ViT model\n",
        "import numpy as np\n",
        "import matplotlib.pyplot as plt\n",
        "import seaborn as sns\n",
        "from sklearn.metrics import confusion_matrix\n",
        "\n",
        "# Set the model to evaluation mode\n",
        "model.eval()\n",
        "\n",
        "# Initialize lists to store predictions and labels\n",
        "all_preds = []\n",
        "all_labels = []\n",
        "\n",
        "# Iterate over the data in the val_loader\n",
        "for inputs, labels in val_loader:\n",
        "    inputs, labels = inputs.to(device), labels.to(device)\n",
        "    outputs = model(inputs)\n",
        "    _, preds = torch.max(outputs, 1)\n",
        "    all_preds.extend(preds.cpu().numpy())\n",
        "    all_labels.extend(labels.cpu().numpy())\n",
        "\n",
        "# Get the confusion matrix\n",
        "cm = confusion_matrix(all_labels, all_preds)\n",
        "\n",
        "# Plot the confusion matrix\n",
        "plt.figure(figsize=(8, 6))\n",
        "sns.heatmap(cm, annot=True, fmt='d', cmap='Blues', xticklabels=full_train_dataset.classes, yticklabels=full_train_dataset.classes)\n",
        "plt.xlabel('Predicted labels')\n",
        "plt.ylabel('True labels')\n",
        "plt.title('Confusion Matrix for ViT Model')\n",
        "plt.show()"
      ],
      "metadata": {
        "colab": {
          "base_uri": "https://localhost:8080/",
          "height": 619
        },
        "id": "EgVRSUvhot7M",
        "outputId": "6f5f8976-6c7a-4340-931b-5d76a7c7c65a"
      },
      "execution_count": null,
      "outputs": [
        {
          "output_type": "stream",
          "name": "stderr",
          "text": [
            "/usr/local/lib/python3.12/dist-packages/torch/utils/data/dataloader.py:627: UserWarning: This DataLoader will create 4 worker processes in total. Our suggested max number of worker in current system is 2, which is smaller than what this DataLoader is going to create. Please be aware that excessive worker creation might get DataLoader running slow or even freeze, lower the worker number to avoid potential slowness/freeze if necessary.\n",
            "  warnings.warn(\n"
          ]
        },
        {
          "output_type": "display_data",
          "data": {
            "text/plain": [
              "<Figure size 800x600 with 2 Axes>"
            ],
            "image/png": "[encoded data removed]"
          },
          "metadata": {}
        }
      ]
    },
    {
      "cell_type": "markdown",
      "source": [
        "#ResNet"
      ],
      "metadata": {
        "id": "wC-iloLVv8mN"
      }
    },
    {
      "cell_type": "code",
      "source": [
        "torch.cuda.empty_cache()\n",
        "!nvidia-smi"
      ],
      "metadata": {
        "colab": {
          "base_uri": "https://localhost:8080/"
        },
        "id": "8cNEhk9dx_5m",
        "outputId": "7df2d56b-9f3c-4c30-c9c7-1fd674826c19"
      },
      "execution_count": null,
      "outputs": [
        {
          "output_type": "stream",
          "name": "stdout",
          "text": [
            "Fri Aug 29 17:02:43 2025       \n",
            "+-----------------------------------------------------------------------------------------+\n",
            "| NVIDIA-SMI 550.54.15              Driver Version: 550.54.15      CUDA Version: 12.4     |\n",
            "|-----------------------------------------+------------------------+----------------------+\n",
            "| GPU  Name                 Persistence-M | Bus-Id          Disp.A | Volatile Uncorr. ECC |\n",
            "| Fan  Temp   Perf          Pwr:Usage/Cap |           Memory-Usage | GPU-Util  Compute M. |\n",
            "|                                         |                        |               MIG M. |\n",
            "|=========================================+========================+======================|\n",
            "|   0  Tesla T4                       Off |   00000000:00:04.0 Off |                    0 |\n",
            "| N/A   66C    P0             30W /   70W |    8500MiB /  15360MiB |     14%      Default |\n",
            "|                                         |                        |                  N/A |\n",
            "+-----------------------------------------+------------------------+----------------------+\n",
            "                                                                                         \n",
            "+-----------------------------------------------------------------------------------------+\n",
            "| Processes:                                                                              |\n",
            "|  GPU   GI   CI        PID   Type   Process name                              GPU Memory |\n",
            "|        ID   ID                                                               Usage      |\n",
            "|=========================================================================================|\n",
            "+-----------------------------------------------------------------------------------------+\n"
          ]
        }
      ]
    },
    {
      "cell_type": "code",
      "source": [
        "import torch\n",
        "import torch.nn as nn\n",
        "import torch.optim as optim\n",
        "from torch.utils.data import DataLoader, Dataset, Subset\n",
        "import torchvision.transforms as transforms\n",
        "from torchvision.datasets import ImageFolder\n",
        "import timm\n",
        "import time\n",
        "import numpy as np\n",
        "from sklearn.model_selection import StratifiedShuffleSplit\n",
        "from sklearn.utils import class_weight\n",
        "import os\n",
        "from PIL import Image\n",
        "import random\n",
        "import csv\n",
        "from torch.utils.tensorboard import SummaryWriter\n",
        "from google.colab import drive\n",
        "from pathlib import Path\n",
        "drive.mount('/content/drive')\n",
        "\n",
        "# ----------------------------\n",
        "# 1. Device Configuration\n",
        "# ----------------------------\n",
        "\n",
        "device = torch.device(\"cuda\" if torch.cuda.is_available() else \"cpu\")\n",
        "print(f\"Using device: {device}\")\n",
        "\n",
        "# ----------------------------\n",
        "# 2. Data Augmentation and Normalization\n",
        "# ----------------------------\n",
        "\n",
        "# Basic transformations for all images\n",
        "basic_transform = transforms.Compose([\n",
        "    transforms.Resize(256),\n",
        "    transforms.CenterCrop(224),\n",
        "    transforms.ToTensor(),\n",
        "    transforms.Normalize(mean=[0.485, 0.456, 0.406],  # ImageNet statistics\n",
        "                         std=[0.229, 0.224, 0.225]),\n",
        "])\n",
        "\n",
        "# Augmentation transformations to create additional samples\n",
        "augment_transform = transforms.Compose([\n",
        "    transforms.RandomHorizontalFlip(),\n",
        "    transforms.RandomRotation(20),\n",
        "    transforms.ColorJitter(brightness=0.2, contrast=0.2, saturation=0.2, hue=0.2),\n",
        "    transforms.RandomAffine(degrees=0, shear=10, scale=(0.8, 1.2)),\n",
        "])\n",
        "\n",
        "# ----------------------------\n",
        "# 3. Load and Split the Dataset\n",
        "# ----------------------------\n",
        "\n",
        "# Paths\n",
        "# ----------------------------\n",
        "base_dir = Path(\"/content/drive/MyDrive/Project2/Project 1 Data\")\n",
        "train_data_path = os.path.join(base_dir, 'Train_Data')\n",
        "\n",
        "\n",
        "# Verify that the training data path exists\n",
        "if not os.path.isdir(train_data_path):\n",
        "    raise FileNotFoundError(f\"Training data directory not found at {train_data_path}\")\n",
        "\n",
        "# Load the full training dataset without any transformations initially\n",
        "full_train_dataset = ImageFolder(root=train_data_path, transform=None)\n",
        "\n",
        "# Extract labels for stratified splitting\n",
        "labels = [label for _, label in full_train_dataset.samples]\n",
        "\n",
        "# Define the split: 80% training and 20% validation\n",
        "split_ratio = 0.2\n",
        "split = StratifiedShuffleSplit(n_splits=1, test_size=split_ratio, random_state=42)\n",
        "train_idx, val_idx = next(split.split(np.zeros(len(labels)), labels))\n",
        "\n",
        "# Create training and validation subsets\n",
        "train_subset = Subset(full_train_dataset, train_idx)\n",
        "val_subset = Subset(full_train_dataset, val_idx)\n",
        "\n",
        "# ----------------------------\n",
        "# 4. Identify and Balance the Dataset\n",
        "# ----------------------------\n",
        "\n",
        "# Function to compute class counts\n",
        "def get_class_counts(dataset):\n",
        "    class_counts = {}\n",
        "    for _, label in dataset:\n",
        "        if label in class_counts:\n",
        "            class_counts[label] += 1\n",
        "        else:\n",
        "            class_counts[label] = 1\n",
        "    return class_counts\n",
        "\n",
        "# Get class counts for the training subset\n",
        "train_class_counts = get_class_counts(train_subset)\n",
        "print(\"Class Counts in Training Set:\", train_class_counts)\n",
        "\n",
        "# Determine the maximum class count\n",
        "max_count = max(train_class_counts.values())\n",
        "print(\"Maximum class count:\", max_count)\n",
        "\n",
        "# Determine the number of samples to generate for each class\n",
        "augmentation_counts = {cls: max_count - count for cls, count in train_class_counts.items()}\n",
        "print(\"Number of Augmented Samples Needed per Class:\", augmentation_counts)\n",
        "\n",
        "# Custom BalancedDataset\n",
        "class BalancedDataset(Dataset):\n",
        "    def __init__(self, original_dataset, augmentation_counts, augment_transform, basic_transform):\n",
        "        \"\"\"\n",
        "        original_dataset: Subset of ImageFolder\n",
        "        augmentation_counts: dict mapping class index to number of samples to augment\n",
        "        augment_transform: Transformations to apply for augmentation\n",
        "        basic_transform: Basic transformations to apply to all images\n",
        "        \"\"\"\n",
        "        self.original_dataset = original_dataset\n",
        "        self.augmentation_counts = augmentation_counts\n",
        "        self.augment_transform = augment_transform\n",
        "        self.basic_transform = basic_transform\n",
        "\n",
        "        # Organize indices by class\n",
        "        self.class_to_indices = {}\n",
        "        for idx in range(len(original_dataset)):\n",
        "            _, label = original_dataset[idx]\n",
        "            if label not in self.class_to_indices:\n",
        "                self.class_to_indices[label] = []\n",
        "            self.class_to_indices[label].append(idx)\n",
        "\n",
        "        # Prepare lists of original and augmented samples\n",
        "        self.samples = []\n",
        "        self.augmented_samples = []\n",
        "        for label, count in augmentation_counts.items():\n",
        "            original_indices = self.class_to_indices[label]\n",
        "            self.samples.extend(original_indices)  # Original samples\n",
        "\n",
        "            # Generate augmented samples\n",
        "            for _ in range(count):\n",
        "                original_idx = random.choice(original_indices)\n",
        "                self.augmented_samples.append(original_idx)  # Placeholder for augmented samples\n",
        "\n",
        "    def __len__(self):\n",
        "        return len(self.samples) + len(self.augmented_samples)\n",
        "\n",
        "    def __getitem__(self, idx):\n",
        "        if idx < len(self.samples):\n",
        "            original_idx = self.samples[idx]\n",
        "            image, label = self.original_dataset[original_idx]\n",
        "            image = self.basic_transform(image)\n",
        "        else:\n",
        "            aug_idx = self.augmented_samples[idx - len(self.samples)]\n",
        "            image, label = self.original_dataset[aug_idx]\n",
        "            image = self.augment_transform(image)\n",
        "            image = self.basic_transform(image)\n",
        "\n",
        "        # Debugging: Ensure image is a tensor\n",
        "        if not isinstance(image, torch.Tensor):\n",
        "            raise TypeError(f\"Transformed image is not a tensor. Type: {type(image)} at index {idx}\")\n",
        "\n",
        "        return image, label\n",
        "\n",
        "# Initialize the balanced dataset\n",
        "balanced_train_dataset = BalancedDataset(\n",
        "    original_dataset=train_subset,\n",
        "    augmentation_counts=augmentation_counts,\n",
        "    augment_transform=augment_transform,\n",
        "    basic_transform=basic_transform\n",
        ")\n",
        "\n",
        "# Verify the new class counts\n",
        "def verify_balanced(dataset, num_classes):\n",
        "    class_counts = {cls:0 for cls in range(num_classes)}\n",
        "    for _, label in dataset:\n",
        "        class_counts[label] += 1\n",
        "    return class_counts\n",
        "\n",
        "balanced_train_class_counts = verify_balanced(balanced_train_dataset, len(full_train_dataset.classes))\n",
        "print(\"Class Counts in Balanced Training Set:\", balanced_train_class_counts)\n",
        "\n",
        "# ----------------------------\n",
        "# 5. Prepare the Validation Dataset\n",
        "# ----------------------------\n",
        "\n",
        "# Define a new Dataset class to apply transforms to validation subset\n",
        "class SubsetWithTransform(Dataset):\n",
        "    def __init__(self, subset, transform):\n",
        "        self.subset = subset\n",
        "        self.transform = transform\n",
        "\n",
        "    def __len__(self):\n",
        "        return len(self.subset)\n",
        "\n",
        "    def __getitem__(self, idx):\n",
        "        image, label = self.subset[idx]\n",
        "        image = self.transform(image)\n",
        "        return image, label\n",
        "\n",
        "# Apply basic_transform to validation dataset\n",
        "balanced_val_dataset = SubsetWithTransform(val_subset, basic_transform)\n",
        "\n",
        "# ----------------------------\n",
        "# 6. Create DataLoaders\n",
        "# ----------------------------\n",
        "\n",
        "# Define DataLoaders\n",
        "batch_size = 32\n",
        "num_workers = 4\n",
        "\n",
        "train_loader = DataLoader(balanced_train_dataset, batch_size=batch_size, shuffle=True, num_workers=num_workers)\n",
        "val_loader = DataLoader(balanced_val_dataset, batch_size=batch_size, shuffle=False, num_workers=num_workers)\n",
        "\n",
        "# ----------------------------\n",
        "# 7. Model Setup with Transfer Learning (ViT)\n",
        "# ----------------------------\n",
        "\n",
        "# Number of classes\n",
        "num_classes = 5\n",
        "\n",
        "# Initialize the pre-trained Resnet model\n",
        "\n",
        "model = timm.create_model('resnet50', pretrained=True)\n",
        "\n",
        "# Replace the classification head for ResNet\n",
        "model.fc = nn.Linear(model.fc.in_features, num_classes)\n",
        "\n",
        "\n",
        "# Move the model to the appropriate device\n",
        "model = model.to(device)\n",
        "\n",
        "# ----------------------------\n",
        "# 8. Loss Function and Optimizer\n",
        "# ----------------------------\n",
        "\n",
        "# Define the loss function\n",
        "criterion = nn.CrossEntropyLoss()\n",
        "\n",
        "# Define the optimizer with weight decay for regularization\n",
        "optimizer = optim.Adam(model.parameters(), lr=3e-5, weight_decay=1e-5)\n",
        "\n",
        "# Define a learning rate scheduler\n",
        "scheduler = optim.lr_scheduler.StepLR(optimizer, step_size=7, gamma=0.1)\n",
        "\n",
        "# ----------------------------\n",
        "# 9. Training and Validation Functions\n",
        "# ----------------------------\n",
        "\n",
        "def train_model(model, train_loader, val_loader, criterion, optimizer, scheduler, num_epochs=20):\n",
        "    best_val_accuracy = 0.0\n",
        "    best_res_net_model_path = 'best_res_net_model.pth'\n",
        "\n",
        "    for epoch in range(num_epochs):\n",
        "        # Training Phase\n",
        "        model.train()\n",
        "        running_loss = 0.0\n",
        "        start_time = time.time()\n",
        "\n",
        "        for inputs, labels in train_loader:\n",
        "            inputs, labels = inputs.to(device), labels.to(device)\n",
        "\n",
        "            optimizer.zero_grad()\n",
        "            outputs = model(inputs)\n",
        "            loss = criterion(outputs, labels)\n",
        "            loss.backward()\n",
        "            optimizer.step()\n",
        "\n",
        "            running_loss += loss.item() * inputs.size(0)\n",
        "\n",
        "        epoch_loss = running_loss / len(train_loader.dataset)\n",
        "\n",
        "        # Validation Phase\n",
        "        model.eval()\n",
        "        val_loss = 0.0\n",
        "        correct = 0\n",
        "        total = 0\n",
        "\n",
        "        with torch.no_grad():\n",
        "            for inputs, labels in val_loader:\n",
        "                inputs, labels = inputs.to(device), labels.to(device)\n",
        "                outputs = model(inputs)\n",
        "                loss = criterion(outputs, labels)\n",
        "                val_loss += loss.item() * inputs.size(0)\n",
        "\n",
        "                _, predicted = torch.max(outputs, 1)\n",
        "                total += labels.size(0)\n",
        "                correct += (predicted == labels).sum().item()\n",
        "\n",
        "        val_loss = val_loss / len(val_loader.dataset)\n",
        "        val_accuracy = 100 * correct / total\n",
        "\n",
        "        epoch_time = time.time() - start_time\n",
        "\n",
        "        print(f\"Epoch [{epoch+1}/{num_epochs}], \"\n",
        "              f\"Train Loss: {epoch_loss:.4f}, \"\n",
        "              f\"Val Loss: {val_loss:.4f}, \"\n",
        "              f\"Val Accuracy: {val_accuracy:.2f}%, \"\n",
        "              f\"Time: {epoch_time:.2f}s\")\n",
        "\n",
        "        # Step the scheduler\n",
        "        scheduler.step()\n",
        "\n",
        "        # Save the model if it has the best accuracy so far\n",
        "        if val_accuracy > best_val_accuracy:\n",
        "            best_val_accuracy = val_accuracy\n",
        "            torch.save(model.state_dict(), best_res_net_model_path)\n",
        "            print(f\"Best model saved with Val Accuracy: {best_val_accuracy:.2f}%\")\n",
        "\n",
        "    print(f\"Training complete. Best Val Accuracy: {best_val_accuracy:.2f}%\")\n",
        "    print(f\"Best model saved as '{best_res_net_model_path}'.\")\n"
      ],
      "metadata": {
        "colab": {
          "base_uri": "https://localhost:8080/"
        },
        "id": "XcV4pdu5vpKK",
        "outputId": "e411854c-c25b-4bcf-d72c-8ac0849e0237"
      },
      "execution_count": null,
      "outputs": [
        {
          "output_type": "stream",
          "name": "stdout",
          "text": [
            "Drive already mounted at /content/drive; to attempt to forcibly remount, call drive.mount(\"/content/drive\", force_remount=True).\n",
            "Using device: cuda\n",
            "Class Counts in Training Set: {4: 168, 3: 731, 1: 289, 0: 239, 2: 585}\n",
            "Maximum class count: 731\n",
            "Number of Augmented Samples Needed per Class: {4: 563, 3: 0, 1: 442, 0: 492, 2: 146}\n",
            "Class Counts in Balanced Training Set: {0: 731, 1: 731, 2: 731, 3: 731, 4: 731}\n"
          ]
        },
        {
          "output_type": "stream",
          "name": "stderr",
          "text": [
            "/usr/local/lib/python3.12/dist-packages/torch/utils/data/dataloader.py:627: UserWarning: This DataLoader will create 4 worker processes in total. Our suggested max number of worker in current system is 2, which is smaller than what this DataLoader is going to create. Please be aware that excessive worker creation might get DataLoader running slow or even freeze, lower the worker number to avoid potential slowness/freeze if necessary.\n",
            "  warnings.warn(\n"
          ]
        }
      ]
    },
    {
      "cell_type": "code",
      "source": [
        "num_epochs = 20\n",
        "train_model(model, train_loader, val_loader, criterion, optimizer, scheduler, num_epochs)\n"
      ],
      "metadata": {
        "colab": {
          "base_uri": "https://localhost:8080/"
        },
        "id": "zp0bVQtGv6qq",
        "outputId": "70e9e861-bc9b-4a8e-debc-f14c6828e35e"
      },
      "execution_count": null,
      "outputs": [
        {
          "output_type": "stream",
          "name": "stdout",
          "text": [
            "Epoch [1/20], Train Loss: 1.5954, Val Loss: 1.5795, Val Accuracy: 32.94%, Time: 44.06s\n",
            "Best model saved with Val Accuracy: 32.94%\n",
            "Epoch [2/20], Train Loss: 1.5608, Val Loss: 1.5394, Val Accuracy: 42.06%, Time: 44.65s\n",
            "Best model saved with Val Accuracy: 42.06%\n",
            "Epoch [3/20], Train Loss: 1.5070, Val Loss: 1.4881, Val Accuracy: 45.44%, Time: 45.07s\n",
            "Best model saved with Val Accuracy: 45.44%\n",
            "Epoch [4/20], Train Loss: 1.4165, Val Loss: 1.3762, Val Accuracy: 45.83%, Time: 44.86s\n",
            "Best model saved with Val Accuracy: 45.83%\n",
            "Epoch [5/20], Train Loss: 1.2967, Val Loss: 1.2753, Val Accuracy: 48.81%, Time: 46.66s\n",
            "Best model saved with Val Accuracy: 48.81%\n",
            "Epoch [6/20], Train Loss: 1.1810, Val Loss: 1.2062, Val Accuracy: 52.18%, Time: 44.96s\n",
            "Best model saved with Val Accuracy: 52.18%\n",
            "Epoch [7/20], Train Loss: 1.0814, Val Loss: 1.1426, Val Accuracy: 53.57%, Time: 44.86s\n",
            "Best model saved with Val Accuracy: 53.57%\n",
            "Epoch [8/20], Train Loss: 1.0243, Val Loss: 1.1336, Val Accuracy: 53.97%, Time: 44.47s\n",
            "Best model saved with Val Accuracy: 53.97%\n",
            "Epoch [9/20], Train Loss: 1.0102, Val Loss: 1.1296, Val Accuracy: 54.17%, Time: 44.73s\n",
            "Best model saved with Val Accuracy: 54.17%\n",
            "Epoch [10/20], Train Loss: 1.0006, Val Loss: 1.1283, Val Accuracy: 54.56%, Time: 45.67s\n",
            "Best model saved with Val Accuracy: 54.56%\n",
            "Epoch [11/20], Train Loss: 1.0019, Val Loss: 1.1306, Val Accuracy: 54.37%, Time: 46.62s\n",
            "Epoch [12/20], Train Loss: 0.9906, Val Loss: 1.1355, Val Accuracy: 56.15%, Time: 45.44s\n",
            "Best model saved with Val Accuracy: 56.15%\n",
            "Epoch [13/20], Train Loss: 0.9787, Val Loss: 1.1248, Val Accuracy: 54.96%, Time: 44.34s\n",
            "Epoch [14/20], Train Loss: 0.9729, Val Loss: 1.1229, Val Accuracy: 54.76%, Time: 44.43s\n",
            "Epoch [15/20], Train Loss: 0.9728, Val Loss: 1.1426, Val Accuracy: 55.56%, Time: 44.42s\n",
            "Epoch [16/20], Train Loss: 0.9651, Val Loss: 1.1230, Val Accuracy: 53.97%, Time: 44.56s\n",
            "Epoch [17/20], Train Loss: 0.9688, Val Loss: 1.1262, Val Accuracy: 55.16%, Time: 44.57s\n",
            "Epoch [18/20], Train Loss: 0.9657, Val Loss: 1.1272, Val Accuracy: 56.35%, Time: 46.18s\n",
            "Best model saved with Val Accuracy: 56.35%\n",
            "Epoch [19/20], Train Loss: 0.9750, Val Loss: 1.1400, Val Accuracy: 55.75%, Time: 45.96s\n",
            "Epoch [20/20], Train Loss: 0.9630, Val Loss: 1.1204, Val Accuracy: 54.96%, Time: 44.15s\n",
            "Training complete. Best Val Accuracy: 56.35%\n",
            "Best model saved as 'best_res_net_model.pth'.\n"
          ]
        }
      ]
    },
    {
      "cell_type": "code",
      "source": [
        "import matplotlib.pyplot as plt\n",
        "\n",
        "# -----------------------------\n",
        "# 1. Define the data from your logs\n",
        "# -----------------------------\n",
        "train_loss = [\n",
        "    1.5954, 1.5608, 1.5070, 1.4165, 1.2967, 1.1810, 1.0814, 1.0243, 1.0102, 1.0006,\n",
        "    1.0019, 0.9906, 0.9787, 0.9729, 0.9728, 0.9651, 0.9688, 0.9657, 0.9750, 0.9630\n",
        "]\n",
        "\n",
        "val_loss = [\n",
        "    1.5795, 1.5394, 1.4881, 1.3762, 1.2753, 1.2062, 1.1426, 1.1336, 1.1296, 1.1283,\n",
        "    1.1306, 1.1355, 1.1248, 1.1229, 1.1426, 1.1230, 1.1262, 1.1272, 1.1400, 1.1204\n",
        "]\n",
        "\n",
        "val_accuracy = [\n",
        "    32.94, 42.06, 45.44, 45.83, 48.81, 52.18, 53.57, 53.97, 54.17, 54.56,\n",
        "    54.37, 56.15, 54.96, 54.76, 55.56, 53.97, 55.16, 56.35, 55.75, 54.96\n",
        "]\n",
        "\n",
        "epochs = range(1, 21)\n",
        "\n",
        "# -----------------------------\n",
        "# 2. Plot Train Loss vs Val Loss\n",
        "# -----------------------------\n",
        "plt.figure(figsize=(10,5))\n",
        "plt.plot(epochs, train_loss, label='Train Loss', linewidth=2)\n",
        "plt.plot(epochs, val_loss, label='Validation Loss', linewidth=2)\n",
        "plt.xlabel('Epochs')\n",
        "plt.ylabel('Loss')\n",
        "plt.title('Training and Validation Loss')\n",
        "plt.legend()\n",
        "plt.grid(True)\n",
        "plt.show()\n",
        "\n",
        "# -----------------------------\n",
        "# 3. Plot Validation Accuracy\n",
        "# -----------------------------\n",
        "plt.figure(figsize=(10,5))\n",
        "plt.plot(epochs, val_accuracy, label='Validation Accuracy', color='green', linewidth=2)\n",
        "plt.xlabel('Epochs')\n",
        "plt.ylabel('Accuracy (%)')\n",
        "plt.title('Validation Accuracy')\n",
        "plt.ylim(0, 100)\n",
        "plt.grid(True)\n",
        "plt.show()\n"
      ],
      "metadata": {
        "colab": {
          "base_uri": "https://localhost:8080/",
          "height": 957
        },
        "id": "z3k-dowJ59R0",
        "outputId": "094e119a-21a6-48fc-adf2-9326a17128e0"
      },
      "execution_count": 5,
      "outputs": [
        {
          "output_type": "display_data",
          "data": {
            "text/plain": [
              "<Figure size 1000x500 with 1 Axes>"
            ],
            "image/png": "[encoded data removed]"
          },
          "metadata": {}
        },
        {
          "output_type": "display_data",
          "data": {
            "text/plain": [
              "<Figure size 1000x500 with 1 Axes>"
            ],
            "image/png": "[encoded data removed]"
          },
          "metadata": {}
        }
      ]
    }
  ]
}